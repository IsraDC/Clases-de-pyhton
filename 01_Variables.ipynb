{
  "nbformat": 4,
  "nbformat_minor": 0,
  "metadata": {
    "colab": {
      "provenance": [],
      "authorship_tag": "ABX9TyNn6VX9Az7sGxsBZvG9XdZ6",
      "include_colab_link": true
    },
    "kernelspec": {
      "name": "python3",
      "display_name": "Python 3"
    },
    "language_info": {
      "name": "python"
    }
  },
  "cells": [
    {
      "cell_type": "markdown",
      "metadata": {
        "id": "view-in-github",
        "colab_type": "text"
      },
      "source": [
        "<a href=\"https://colab.research.google.com/github/IsraDC/Clases-de-pyhton/blob/main/01_Variables.ipynb\" target=\"_parent\"><img src=\"https://colab.research.google.com/assets/colab-badge.svg\" alt=\"Open In Colab\"/></a>"
      ]
    },
    {
      "cell_type": "markdown",
      "source": [
        "<h1>Buena praxis</h1>\n",
        "\n",
        "\n",
        "*   Escribir todo en minuscula\n",
        "*   No usar numeros y caracteres especiales en las variables\n",
        "*   si se compone de dos palabras usar guion bajo\n",
        "\n",
        "\n",
        "\n",
        "\n"
      ],
      "metadata": {
        "id": "sxIiMt7Q6wao"
      }
    },
    {
      "cell_type": "code",
      "execution_count": 2,
      "metadata": {
        "id": "jVJCi3FezwNt"
      },
      "outputs": [],
      "source": [
        "name = 'Israel Alejandro'\n",
        "user_id = 1234567\n",
        "progress = 0.75\n",
        "exp = 60\n",
        "verified = True"
      ]
    },
    {
      "cell_type": "code",
      "source": [
        "xp = True\n",
        "xp = False\n",
        "\n",
        "print(xp)"
      ],
      "metadata": {
        "id": "oXmiaJS_6sTy",
        "colab": {
          "base_uri": "https://localhost:8080/"
        },
        "outputId": "ef2dbc84-b9ad-4d9c-f5f6-32b5e96bc022"
      },
      "execution_count": 3,
      "outputs": [
        {
          "output_type": "stream",
          "name": "stdout",
          "text": [
            "False\n"
          ]
        }
      ]
    },
    {
      "cell_type": "markdown",
      "source": [
        "<h1>Int</h1>\n",
        "<p>Estos tipos de datos reciben numeros enteros los cuales no aceptan decimales</p>"
      ],
      "metadata": {
        "id": "GOV9kCULs4JT"
      }
    },
    {
      "cell_type": "code",
      "source": [
        "'''int'''\n",
        "year = 2023\n",
        "age = 17"
      ],
      "metadata": {
        "id": "hEexOyjG1bdk"
      },
      "execution_count": 4,
      "outputs": []
    },
    {
      "cell_type": "markdown",
      "source": [
        "<h1>float</h1>\n",
        "hace referencia a un valor numerico que si admite decimales"
      ],
      "metadata": {
        "id": "LCfy-fZP73kV"
      }
    },
    {
      "cell_type": "code",
      "source": [
        "'''float'''\n",
        "pi = 3.141592\n",
        "apple_cost = 12.99"
      ],
      "metadata": {
        "id": "j3cvENmQ1lvU"
      },
      "execution_count": 5,
      "outputs": []
    },
    {
      "cell_type": "markdown",
      "source": [
        "<h1>string</h1>\n",
        "un tipo de dato que nos permite alojar textos, estos se deben poner siempre en comillas simples o dobles:"
      ],
      "metadata": {
        "id": "vHEUgV2I8AiA"
      }
    },
    {
      "cell_type": "code",
      "source": [
        "'''string'''\n",
        "apellido = 'garcia'\n",
        "saludo = 'hola'"
      ],
      "metadata": {
        "id": "KM72Lwii1xv6"
      },
      "execution_count": 6,
      "outputs": []
    },
    {
      "cell_type": "markdown",
      "source": [
        "<h1>Boolean</h1>\n",
        "estos datos solo almacenan datos de tipo verdadero o falsos"
      ],
      "metadata": {
        "id": "52wvOAxX8Qmm"
      }
    },
    {
      "cell_type": "code",
      "source": [
        "'''bool'''\n",
        "aprovado = True\n",
        "reprobado = False"
      ],
      "metadata": {
        "id": "AgmX31Ox2OtS"
      },
      "execution_count": 7,
      "outputs": []
    },
    {
      "cell_type": "markdown",
      "source": [
        "<h1>Comentario</h1>"
      ],
      "metadata": {
        "id": "3wjXxO8Q8vZ4"
      }
    },
    {
      "cell_type": "code",
      "source": [
        "#esto es un comentario\n",
        "\n",
        "print('Hola mundo')\n",
        "\n",
        "'''comentario de varias lineas'''\n"
      ],
      "metadata": {
        "id": "X4nP7Nhg8dFS",
        "colab": {
          "base_uri": "https://localhost:8080/",
          "height": 53
        },
        "outputId": "ea40c8b5-4fa3-4be8-f48a-3cc684eb2c32"
      },
      "execution_count": 8,
      "outputs": [
        {
          "output_type": "stream",
          "name": "stdout",
          "text": [
            "Hola mundo\n"
          ]
        },
        {
          "output_type": "execute_result",
          "data": {
            "text/plain": [
              "'comentario de varias lineas'"
            ],
            "application/vnd.google.colaboratory.intrinsic+json": {
              "type": "string"
            }
          },
          "metadata": {},
          "execution_count": 8
        }
      ]
    },
    {
      "cell_type": "markdown",
      "source": [
        "<h1>Concatenación</h1>"
      ],
      "metadata": {
        "id": "rSLf1xhY3S-x"
      }
    },
    {
      "cell_type": "code",
      "source": [
        "print(name, apellido, age)\n",
        "print('Esto es un texto: ',verified)\n"
      ],
      "metadata": {
        "id": "yLmWtp2Z3LpY",
        "colab": {
          "base_uri": "https://localhost:8080/"
        },
        "outputId": "65ea5425-59a0-4495-c6b7-702eabc3d583"
      },
      "execution_count": 9,
      "outputs": [
        {
          "output_type": "stream",
          "name": "stdout",
          "text": [
            "Israel Alejandro garcia 17\n",
            "Esto es un texto:  True\n"
          ]
        }
      ]
    },
    {
      "cell_type": "markdown",
      "source": [
        "<h1>Imprimir el tipo de dato</h1>"
      ],
      "metadata": {
        "id": "Ega9O2eJ6da-"
      }
    },
    {
      "cell_type": "code",
      "source": [
        "print(type('hola mundo')) #string\n",
        "print(type(5))          #int\n",
        "print(type(3 + 1j))     #complex\n",
        "print(type(3.1416))     #float\n",
        "print(type([1, 2, 3])) # Lista\n",
        "print(type({name: 'Isra'})) #diccionario\n",
        "print(type({'name':'Asabeneh'})) # Diccionario"
      ],
      "metadata": {
        "id": "8bOJceYd4Bry",
        "colab": {
          "base_uri": "https://localhost:8080/"
        },
        "outputId": "77193353-1afe-477e-891e-3241ffad8b5d"
      },
      "execution_count": 10,
      "outputs": [
        {
          "output_type": "stream",
          "name": "stdout",
          "text": [
            "<class 'str'>\n",
            "<class 'int'>\n",
            "<class 'complex'>\n",
            "<class 'float'>\n",
            "<class 'list'>\n",
            "<class 'dict'>\n",
            "<class 'dict'>\n"
          ]
        }
      ]
    },
    {
      "cell_type": "markdown",
      "source": [
        "<h1>variables en una sola linea</h1>"
      ],
      "metadata": {
        "id": "PRhbxt6b-Byn"
      }
    },
    {
      "cell_type": "code",
      "source": [
        "name, surname, alias, age = 'Erick', 'Borges', 'Alex', 23\n",
        "print('Me llamo:', name, surname)\n",
        "print('Mi edad es:', age, ',Mis amigos me dicen:', alias)"
      ],
      "metadata": {
        "id": "lFmCnTOK9Zj7",
        "colab": {
          "base_uri": "https://localhost:8080/"
        },
        "outputId": "90ff588d-6950-4de3-e564-b07e3f8c9732"
      },
      "execution_count": 11,
      "outputs": [
        {
          "output_type": "stream",
          "name": "stdout",
          "text": [
            "Me llamo: Erick Borges\n",
            "Mi edad es: 23 ,Mis amigos me dicen: Alex\n"
          ]
        }
      ]
    },
    {
      "cell_type": "markdown",
      "source": [
        "<h1>Asignar valores por el usuario</h1>"
      ],
      "metadata": {
        "id": "WYvAeFHP-MRD"
      }
    },
    {
      "cell_type": "code",
      "source": [
        "fist_name = (input('Ingresa tu nombre'))\n",
        "edad = (input('Ingresa edad'))\n",
        "\n",
        "print(fist_name, edad)"
      ],
      "metadata": {
        "id": "VrWWyOou4bUQ",
        "colab": {
          "base_uri": "https://localhost:8080/"
        },
        "outputId": "1b5b70bd-fa9b-428d-e90d-db163984f442"
      },
      "execution_count": 12,
      "outputs": [
        {
          "output_type": "stream",
          "name": "stdout",
          "text": [
            "Ingresa tu nombreisrael\n",
            "Ingresa edad18\n",
            "israel 18\n"
          ]
        }
      ]
    },
    {
      "cell_type": "markdown",
      "source": [
        "<h1>Funciones del sistema</h1>"
      ],
      "metadata": {
        "id": "_zf6n74p-0Lo"
      }
    },
    {
      "cell_type": "code",
      "source": [
        "#print() = imprime en pantalla\n",
        "#type() = nos da el tipo de dato a trabajar\n",
        "#len() = caracteres\n",
        "#str() = transformar datos"
      ],
      "metadata": {
        "id": "qiXAWYQR6Cb2"
      },
      "execution_count": 14,
      "outputs": []
    },
    {
      "cell_type": "code",
      "source": [
        "print(len(name))"
      ],
      "metadata": {
        "id": "B-a3rxZ-_AWz",
        "colab": {
          "base_uri": "https://localhost:8080/"
        },
        "outputId": "506d7d34-a87c-444e-da24-304e98628548"
      },
      "execution_count": 15,
      "outputs": [
        {
          "output_type": "stream",
          "name": "stdout",
          "text": [
            "5\n"
          ]
        }
      ]
    },
    {
      "cell_type": "code",
      "source": [
        "my_int_variable = 4\n",
        "print(my_int_variable )\n",
        "print(type(my_int_variable ))\n",
        "\n",
        "new_variable = str(my_int_variable)\n",
        "print(type(new_variable))"
      ],
      "metadata": {
        "id": "02Hc8mXT_Eq4",
        "colab": {
          "base_uri": "https://localhost:8080/"
        },
        "outputId": "8eb2d297-eb26-426d-d328-5714f4d55688"
      },
      "execution_count": 16,
      "outputs": [
        {
          "output_type": "stream",
          "name": "stdout",
          "text": [
            "4\n",
            "<class 'int'>\n",
            "<class 'str'>\n"
          ]
        }
      ]
    }
  ]
}