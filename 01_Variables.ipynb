{
  "nbformat": 4,
  "nbformat_minor": 0,
  "metadata": {
    "colab": {
      "provenance": [],
      "authorship_tag": "ABX9TyMnxl8IBq6XpWfqWMXN+aoI",
      "include_colab_link": true
    },
    "kernelspec": {
      "name": "python3",
      "display_name": "Python 3"
    },
    "language_info": {
      "name": "python"
    }
  },
  "cells": [
    {
      "cell_type": "markdown",
      "metadata": {
        "id": "view-in-github",
        "colab_type": "text"
      },
      "source": [
        "<a href=\"https://colab.research.google.com/github/IsraDC/Clases-de-pyhton/blob/main/01_Variables.ipynb\" target=\"_parent\"><img src=\"https://colab.research.google.com/assets/colab-badge.svg\" alt=\"Open In Colab\"/></a>"
      ]
    },
    {
      "cell_type": "markdown",
      "source": [
        "<h1>Buena praxis</h1>\n",
        "\n",
        "\n",
        "*   Escribir todo en minuscula\n",
        "*   No usar numeros y caracteres especiales en las variables\n",
        "*   si se compone de dos palabras usar guion bajo\n",
        "\n",
        "\n",
        "\n",
        "\n"
      ],
      "metadata": {
        "id": "sxIiMt7Q6wao"
      }
    },
    {
      "cell_type": "code",
      "execution_count": null,
      "metadata": {
        "id": "jVJCi3FezwNt"
      },
      "outputs": [],
      "source": [
        "name = 'Israel Alejandro'\n",
        "user_id = 1234567\n",
        "progress = 0.75\n",
        "exp = 60\n",
        "verified = True"
      ]
    },
    {
      "cell_type": "code",
      "source": [
        "xp = True\n",
        "xp = False\n",
        "\n",
        "print(xp)"
      ],
      "metadata": {
        "id": "oXmiaJS_6sTy",
        "colab": {
          "base_uri": "https://localhost:8080/"
        },
        "outputId": "60327370-c7bf-4879-ce9f-ad81e219148a"
      },
      "execution_count": null,
      "outputs": [
        {
          "output_type": "stream",
          "name": "stdout",
          "text": [
            "False\n"
          ]
        }
      ]
    },
    {
      "cell_type": "markdown",
      "source": [
        "<h1>Int</h1>\n",
        "<p>Estos tipos de datos reciben numeros enteros los cuales no aceptan decimales</p>"
      ],
      "metadata": {
        "id": "GOV9kCULs4JT"
      }
    },
    {
      "cell_type": "code",
      "source": [
        "'''int'''\n",
        "year = 2023\n",
        "age = 17"
      ],
      "metadata": {
        "id": "hEexOyjG1bdk"
      },
      "execution_count": null,
      "outputs": []
    },
    {
      "cell_type": "markdown",
      "source": [
        "<h1>float</h1>\n",
        "hace referencia a un valor numerico que si admite decimales"
      ],
      "metadata": {
        "id": "LCfy-fZP73kV"
      }
    },
    {
      "cell_type": "code",
      "source": [
        "'''float'''\n",
        "pi = 3.141592\n",
        "apple_cost = 12.99"
      ],
      "metadata": {
        "id": "j3cvENmQ1lvU"
      },
      "execution_count": null,
      "outputs": []
    },
    {
      "cell_type": "markdown",
      "source": [
        "<h1>string</h1>\n",
        "un tipo de dato que nos permite alojar textos, estos se deben poner siempre en comillas simples o dobles:"
      ],
      "metadata": {
        "id": "vHEUgV2I8AiA"
      }
    },
    {
      "cell_type": "code",
      "source": [
        "'''string'''\n",
        "apellido = 'garcia'\n",
        "saludo = 'hola'"
      ],
      "metadata": {
        "id": "KM72Lwii1xv6"
      },
      "execution_count": null,
      "outputs": []
    },
    {
      "cell_type": "markdown",
      "source": [
        "<h1>Boolean</h1>\n",
        "estos datos solo almacenan datos de tipo verdadero o falsos"
      ],
      "metadata": {
        "id": "52wvOAxX8Qmm"
      }
    },
    {
      "cell_type": "code",
      "source": [
        "'''bool'''\n",
        "aprovado = True\n",
        "reprobado = False"
      ],
      "metadata": {
        "id": "AgmX31Ox2OtS"
      },
      "execution_count": null,
      "outputs": []
    },
    {
      "cell_type": "markdown",
      "source": [
        "<h1>Comentario</h1>"
      ],
      "metadata": {
        "id": "3wjXxO8Q8vZ4"
      }
    },
    {
      "cell_type": "code",
      "source": [
        "#esto es un comentario\n",
        "\n",
        "print('Hola mundo')\n",
        "\n",
        "'''comentario de varias lineas'''\n"
      ],
      "metadata": {
        "id": "X4nP7Nhg8dFS",
        "colab": {
          "base_uri": "https://localhost:8080/",
          "height": 53
        },
        "outputId": "ed88ca0a-a483-4ac8-bfd6-9a0446a4d4fe"
      },
      "execution_count": null,
      "outputs": [
        {
          "output_type": "stream",
          "name": "stdout",
          "text": [
            "Hola mundo\n"
          ]
        },
        {
          "output_type": "execute_result",
          "data": {
            "text/plain": [
              "'comentario de varias lineas'"
            ],
            "application/vnd.google.colaboratory.intrinsic+json": {
              "type": "string"
            }
          },
          "metadata": {},
          "execution_count": 16
        }
      ]
    },
    {
      "cell_type": "markdown",
      "source": [
        "<h1>Concatenación</h1>"
      ],
      "metadata": {
        "id": "rSLf1xhY3S-x"
      }
    },
    {
      "cell_type": "code",
      "source": [
        "print(name, apellido, age)\n",
        "print('Esto es un texto: ',verified)\n"
      ],
      "metadata": {
        "id": "yLmWtp2Z3LpY",
        "colab": {
          "base_uri": "https://localhost:8080/"
        },
        "outputId": "5735b57a-44da-4a58-b481-9f583524a826"
      },
      "execution_count": null,
      "outputs": [
        {
          "output_type": "stream",
          "name": "stdout",
          "text": [
            "Israel Alejandro garcia 17\n",
            "Esto es un texto:  True\n"
          ]
        }
      ]
    },
    {
      "cell_type": "markdown",
      "source": [
        "<h1>Imprimir el tipo de dato</h1>"
      ],
      "metadata": {
        "id": "Ega9O2eJ6da-"
      }
    },
    {
      "cell_type": "code",
      "source": [
        "print(type('hola mundo')) #string\n",
        "print(type(5))          #int\n",
        "print(type(3 + 1j))     #complex\n",
        "print(type(3.1416))     #float\n",
        "print(type([1, 2, 3])) # Lista\n",
        "print(type({name: 'Isra'})) #diccionario\n",
        "print(type({'name':'Asabeneh'})) # Diccionario"
      ],
      "metadata": {
        "id": "8bOJceYd4Bry",
        "colab": {
          "base_uri": "https://localhost:8080/"
        },
        "outputId": "abbee103-009e-43da-d1cd-fe71f077454c"
      },
      "execution_count": null,
      "outputs": [
        {
          "output_type": "stream",
          "name": "stdout",
          "text": [
            "<class 'str'>\n",
            "<class 'int'>\n",
            "<class 'complex'>\n",
            "<class 'float'>\n",
            "<class 'list'>\n",
            "<class 'dict'>\n",
            "<class 'dict'>\n"
          ]
        }
      ]
    },
    {
      "cell_type": "markdown",
      "source": [
        "<h1>variables en una sola linea</h1>"
      ],
      "metadata": {
        "id": "PRhbxt6b-Byn"
      }
    },
    {
      "cell_type": "code",
      "source": [
        "name, surname, alias, age = 'Erick', 'Borges', 'Alex', 23\n",
        "print('Me llamo:', name, surname)\n",
        "print('Mi edad es:', age, ',Mis amigos me dicen:', alias)"
      ],
      "metadata": {
        "id": "lFmCnTOK9Zj7"
      },
      "execution_count": null,
      "outputs": []
    },
    {
      "cell_type": "markdown",
      "source": [
        "<h1>Asignar valores por el usuario</h1>"
      ],
      "metadata": {
        "id": "WYvAeFHP-MRD"
      }
    },
    {
      "cell_type": "code",
      "source": [
        "fist_name = (input('Ingresa tu nombre'))\n",
        "edad = (input('Ingresa edad'))\n",
        "\n",
        "print(fist_name, edad)"
      ],
      "metadata": {
        "id": "VrWWyOou4bUQ"
      },
      "execution_count": null,
      "outputs": []
    },
    {
      "cell_type": "markdown",
      "source": [
        "<h1>Funciones del sistema</h1>"
      ],
      "metadata": {
        "id": "_zf6n74p-0Lo"
      }
    },
    {
      "cell_type": "code",
      "source": [
        "print() = imprime en pantalla\n",
        "type() = nos da el tipo de dato a trabajar\n",
        "len() = caracteres\n",
        "str() = transformar datos"
      ],
      "metadata": {
        "id": "qiXAWYQR6Cb2",
        "colab": {
          "base_uri": "https://localhost:8080/",
          "height": 130
        },
        "outputId": "48494f7e-afed-4409-c6bd-d7a2446df12a"
      },
      "execution_count": null,
      "outputs": [
        {
          "output_type": "error",
          "ename": "SyntaxError",
          "evalue": "ignored",
          "traceback": [
            "\u001b[0;36m  File \u001b[0;32m\"<ipython-input-1-31b3808ac58a>\"\u001b[0;36m, line \u001b[0;32m1\u001b[0m\n\u001b[0;31m    print() = imprime en pantalla\u001b[0m\n\u001b[0m                      ^\u001b[0m\n\u001b[0;31mSyntaxError\u001b[0m\u001b[0;31m:\u001b[0m invalid syntax\n"
          ]
        }
      ]
    },
    {
      "cell_type": "code",
      "source": [
        "print(len(name))"
      ],
      "metadata": {
        "id": "B-a3rxZ-_AWz"
      },
      "execution_count": null,
      "outputs": []
    },
    {
      "cell_type": "code",
      "source": [
        "my_int_variable = 4\n",
        "print(my_int_variable )\n",
        "print(type(my_int_variable ))\n",
        "\n",
        "new_variable = str(my_int_variable)\n",
        "print(type(new_variable))"
      ],
      "metadata": {
        "id": "02Hc8mXT_Eq4"
      },
      "execution_count": null,
      "outputs": []
    }
  ]
}