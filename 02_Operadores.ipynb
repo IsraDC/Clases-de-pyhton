{
  "nbformat": 4,
  "nbformat_minor": 0,
  "metadata": {
    "colab": {
      "provenance": [],
      "authorship_tag": "ABX9TyM3wl5HFhaLdzs3sj4S9kK9",
      "include_colab_link": true
    },
    "kernelspec": {
      "name": "python3",
      "display_name": "Python 3"
    },
    "language_info": {
      "name": "python"
    }
  },
  "cells": [
    {
      "cell_type": "markdown",
      "metadata": {
        "id": "view-in-github",
        "colab_type": "text"
      },
      "source": [
        "<a href=\"https://colab.research.google.com/github/IsraDC/Clases-de-pyhton/blob/main/02_Operadores.ipynb\" target=\"_parent\"><img src=\"https://colab.research.google.com/assets/colab-badge.svg\" alt=\"Open In Colab\"/></a>"
      ]
    },
    {
      "cell_type": "markdown",
      "source": [
        "<h1>Operadores aritmeticos</h1>"
      ],
      "metadata": {
        "id": "BeqSeiAhAOmB"
      }
    },
    {
      "cell_type": "code",
      "execution_count": 1,
      "metadata": {
        "id": "6TNm24dtAKxK",
        "colab": {
          "base_uri": "https://localhost:8080/"
        },
        "outputId": "bfef534c-9b23-45ab-8b08-c708eb35f926"
      },
      "outputs": [
        {
          "output_type": "stream",
          "name": "stdout",
          "text": [
            "Suma:  3\n",
            "Resta:  1\n",
            "Multiplicacion: 30\n",
            "Division:  3\n",
            "Division:  3.5\n",
            "Modulo:  1\n",
            "Exponente 8\n"
          ]
        }
      ],
      "source": [
        "print(\"Suma: \", 1+2)\n",
        "print(\"Resta: \", 6-5)\n",
        "print('Multiplicacion:', 5*6)\n",
        "print(\"Division: \", 7//2)\n",
        "print(\"Division: \", 7/2)\n",
        "print('Modulo: ', 3%2)\n",
        "print('Exponente', 2 ** 3)"
      ]
    },
    {
      "cell_type": "markdown",
      "source": [
        "podemos unir palabras usando operadores"
      ],
      "metadata": {
        "id": "wqkk2g0WBDFV"
      }
    },
    {
      "cell_type": "code",
      "source": [
        "print('Hola', 'Python')\n",
        "print('Hola' + 'Python')\n",
        "print('Hola' + str(5))\n",
        "print('Hola' * 5)"
      ],
      "metadata": {
        "id": "TP6JN1XYBGU2",
        "colab": {
          "base_uri": "https://localhost:8080/"
        },
        "outputId": "04ea7fd1-f33b-4f68-b5a2-d0cb29fe9ddc"
      },
      "execution_count": 2,
      "outputs": [
        {
          "output_type": "stream",
          "name": "stdout",
          "text": [
            "Hola Python\n",
            "HolaPython\n",
            "Hola5\n",
            "HolaHolaHolaHolaHola\n"
          ]
        }
      ]
    },
    {
      "cell_type": "code",
      "source": [
        "##Estas funciones facilitan\n",
        "for i in range (11):\n",
        "  print('*' * i)"
      ],
      "metadata": {
        "colab": {
          "base_uri": "https://localhost:8080/"
        },
        "id": "1Xb3CXjbBhyx",
        "outputId": "d5bebcce-2f5f-41c7-fdc6-27a640cd322f"
      },
      "execution_count": 3,
      "outputs": [
        {
          "output_type": "stream",
          "name": "stdout",
          "text": [
            "\n",
            "*\n",
            "**\n",
            "***\n",
            "****\n",
            "*****\n",
            "******\n",
            "*******\n",
            "********\n",
            "*********\n",
            "**********\n"
          ]
        }
      ]
    },
    {
      "cell_type": "markdown",
      "source": [
        "Ademas podemos usar los operadores con las variables"
      ],
      "metadata": {
        "id": "--ajsrNdCDdc"
      }
    },
    {
      "cell_type": "code",
      "source": [
        "pizza = 20\n",
        "refresco = 15\n",
        "compra = pizza + refresco\n",
        "propina = compra * 0.2\n",
        "total = compra + propina \n",
        "print(\"Usted debe pagar: \", compra, 'de propina ud debe', propina, 'su total es:', total)"
      ],
      "metadata": {
        "id": "KDiSAic0B8UJ",
        "colab": {
          "base_uri": "https://localhost:8080/"
        },
        "outputId": "b90e850a-e1cb-4488-a344-90ee7c84c4ca"
      },
      "execution_count": 4,
      "outputs": [
        {
          "output_type": "stream",
          "name": "stdout",
          "text": [
            "Usted debe pagar:  35 de propina ud debe 7.0 su total es: 42.0\n"
          ]
        }
      ]
    },
    {
      "cell_type": "code",
      "source": [
        "##Esta funciones nos facilitan mucho el trabajo como por ejemplo\n",
        "\n",
        "x = 1\n",
        "suma = 0\n",
        "while x<=10:\n",
        "  suma += x\n",
        "  x+=1\n",
        "print(suma)"
      ],
      "metadata": {
        "id": "BnWHm4S7DEiN",
        "colab": {
          "base_uri": "https://localhost:8080/"
        },
        "outputId": "8c3bc19b-b755-4fd1-8446-5e926a39b18c"
      },
      "execution_count": 7,
      "outputs": [
        {
          "output_type": "stream",
          "name": "stdout",
          "text": [
            "55\n"
          ]
        }
      ]
    },
    {
      "cell_type": "code",
      "source": [
        "print('Igual a:', 2==2)   #TRUE\n",
        "print('Igual a:', 2==2.00) #TRUE\n",
        "print('Igual a:', 2==1.9999) #FALSE\n"
      ],
      "metadata": {
        "id": "8IM2hvm4Dly7",
        "colab": {
          "base_uri": "https://localhost:8080/"
        },
        "outputId": "f4462c46-c09d-458c-bed5-e5c4943bebab"
      },
      "execution_count": 9,
      "outputs": [
        {
          "output_type": "stream",
          "name": "stdout",
          "text": [
            "Igual a: True\n",
            "Igual a: True\n",
            "Igual a: False\n"
          ]
        }
      ]
    },
    {
      "cell_type": "code",
      "source": [
        "print(\"Distinto de:\", 2!=2) #FALSE\n",
        "print('Distinto de: ', 2!=3)  #TRUE"
      ],
      "metadata": {
        "id": "Nm6JObqHEGRm",
        "colab": {
          "base_uri": "https://localhost:8080/"
        },
        "outputId": "2054fd04-ecec-4a42-c37e-e8fe87797aa9"
      },
      "execution_count": 10,
      "outputs": [
        {
          "output_type": "stream",
          "name": "stdout",
          "text": [
            "Distinto de: False\n",
            "Distinto de:  True\n"
          ]
        }
      ]
    },
    {
      "cell_type": "code",
      "source": [
        "print('Mayor que:', 2>3)#FALSE\n",
        "print('Menor que:', 2<3)#TRUE\n",
        "print('Mayor o igual que:', 4>=3)#TRUE\n",
        "print('Mayor o igual que:', 3>=3)#TRUE\n",
        "print(\"Menor o igual que:\", 3<=3 )#TRUE\n",
        "print(\"Menor o igual que:\", 4<=4 )#TRUE\n"
      ],
      "metadata": {
        "id": "PXbCFb_KEbjY",
        "colab": {
          "base_uri": "https://localhost:8080/"
        },
        "outputId": "3c3784c1-22d4-4fc1-bbc5-d2024dd2042b"
      },
      "execution_count": 11,
      "outputs": [
        {
          "output_type": "stream",
          "name": "stdout",
          "text": [
            "Mayor que: False\n",
            "Menor que: True\n",
            "Mayor o igual que: True\n",
            "Mayor o igual que: True\n",
            "Menor o igual que: True\n",
            "Menor o igual que: True\n"
          ]
        }
      ]
    },
    {
      "cell_type": "code",
      "source": [
        "print(len('mango') == len('melón'))#TRUE\n",
        "print(len('mango') != len('melón'))#FALSE\n",
        "print(len('mango') < len('melón'))#FALSE\n",
        "print(len('mango') > len('melón'))#FALSE\n"
      ],
      "metadata": {
        "id": "gNEmLhflE-GL",
        "colab": {
          "base_uri": "https://localhost:8080/"
        },
        "outputId": "824fdfd8-90a4-4c1b-8274-d6cbf1ee7703"
      },
      "execution_count": 12,
      "outputs": [
        {
          "output_type": "stream",
          "name": "stdout",
          "text": [
            "True\n",
            "False\n",
            "False\n",
            "False\n"
          ]
        }
      ]
    },
    {
      "cell_type": "markdown",
      "source": [
        "<h1>Operadores de comparacion con texto</h1>"
      ],
      "metadata": {
        "id": "W1wiYZ1pFhiB"
      }
    },
    {
      "cell_type": "code",
      "source": [
        "print(\"1 is 1\", 1 is 1)                      #TRUE\n",
        "print('1 is not 2', 1 is not 2)              #TRUE\n",
        "print('A en Alejandro', 'A' is 'Alejandro')   #TRUE\n",
        "print('L en Alejandro', 'L' is 'Alejandro')   #FALSE\n",
        "print('coding' in 'coding for all')           #TRUE\n",
        "print('a in an', 'a' in 'an')                 #TRUE\n",
        "print('4 is 2 ** 2:', 4 is 2 ** 2 )           #TRUE"
      ],
      "metadata": {
        "id": "BDsZgdRbFtlz",
        "colab": {
          "base_uri": "https://localhost:8080/"
        },
        "outputId": "f3632144-ba05-4854-fa54-e5cab1a81415"
      },
      "execution_count": 14,
      "outputs": [
        {
          "output_type": "stream",
          "name": "stdout",
          "text": [
            "1 is 1 True\n",
            "1 is not 2 True\n",
            "A en Alejandro False\n",
            "L en Alejandro False\n",
            "True\n",
            "a in an True\n",
            "4 is 2 ** 2: True\n"
          ]
        },
        {
          "output_type": "stream",
          "name": "stderr",
          "text": [
            "<>:1: SyntaxWarning: \"is\" with a literal. Did you mean \"==\"?\n",
            "<>:2: SyntaxWarning: \"is not\" with a literal. Did you mean \"!=\"?\n",
            "<>:3: SyntaxWarning: \"is\" with a literal. Did you mean \"==\"?\n",
            "<>:4: SyntaxWarning: \"is\" with a literal. Did you mean \"==\"?\n",
            "<>:7: SyntaxWarning: \"is\" with a literal. Did you mean \"==\"?\n",
            "<>:1: SyntaxWarning: \"is\" with a literal. Did you mean \"==\"?\n",
            "<>:2: SyntaxWarning: \"is not\" with a literal. Did you mean \"!=\"?\n",
            "<>:3: SyntaxWarning: \"is\" with a literal. Did you mean \"==\"?\n",
            "<>:4: SyntaxWarning: \"is\" with a literal. Did you mean \"==\"?\n",
            "<>:7: SyntaxWarning: \"is\" with a literal. Did you mean \"==\"?\n",
            "<ipython-input-14-a6367c27591a>:1: SyntaxWarning: \"is\" with a literal. Did you mean \"==\"?\n",
            "  print(\"1 is 1\", 1 is 1)                      #TRUE\n",
            "<ipython-input-14-a6367c27591a>:2: SyntaxWarning: \"is not\" with a literal. Did you mean \"!=\"?\n",
            "  print('1 is not 2', 1 is not 2)              #TRUE\n",
            "<ipython-input-14-a6367c27591a>:3: SyntaxWarning: \"is\" with a literal. Did you mean \"==\"?\n",
            "  print('A en Alejandro', 'A' is 'Alejandro')   #TRUE\n",
            "<ipython-input-14-a6367c27591a>:4: SyntaxWarning: \"is\" with a literal. Did you mean \"==\"?\n",
            "  print('L en Alejandro', 'L' is 'Alejandro')   #FALSE\n",
            "<ipython-input-14-a6367c27591a>:7: SyntaxWarning: \"is\" with a literal. Did you mean \"==\"?\n",
            "  print('4 is 2 ** 2:', 4 is 2 ** 2 )           #TRUE\n"
          ]
        }
      ]
    },
    {
      "cell_type": "markdown",
      "source": [
        "Operadores logicos"
      ],
      "metadata": {
        "id": "y_44UJ9lHFsp"
      }
    },
    {
      "cell_type": "code",
      "source": [
        "print(3 > 2 and 4 > 3)          #RUE\n",
        "print(3 > 2 and 4 < 3)\n",
        "print(3 < 2 and 4 < 3)\n",
        "print('True and True: ', True and True)\n",
        "\n",
        "print(3 > 2 or 4 > 3)\n",
        "print(3 > 2 or 4 < 3)\n",
        "print(3 < 2 or 4 < 3)\n",
        "print('True or False: ', True or False )\n",
        "\n",
        "print()\n"
      ],
      "metadata": {
        "id": "Jj1euBs6HEis",
        "colab": {
          "base_uri": "https://localhost:8080/"
        },
        "outputId": "d902dc48-26c8-4ec5-f219-fb3fc0be04e7"
      },
      "execution_count": 15,
      "outputs": [
        {
          "output_type": "stream",
          "name": "stdout",
          "text": [
            "True\n",
            "False\n",
            "False\n",
            "True and True:  True\n",
            "True\n",
            "True\n",
            "False\n",
            "True or False:  True\n",
            "\n"
          ]
        }
      ]
    }
  ]
}