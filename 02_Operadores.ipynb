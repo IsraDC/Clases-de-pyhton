{
  "nbformat": 4,
  "nbformat_minor": 0,
  "metadata": {
    "colab": {
      "provenance": [],
      "authorship_tag": "ABX9TyNz9HlrA9SW3OQmjY8Nsar5",
      "include_colab_link": true
    },
    "kernelspec": {
      "name": "python3",
      "display_name": "Python 3"
    },
    "language_info": {
      "name": "python"
    }
  },
  "cells": [
    {
      "cell_type": "markdown",
      "metadata": {
        "id": "view-in-github",
        "colab_type": "text"
      },
      "source": [
        "<a href=\"https://colab.research.google.com/github/IsraDC/Clases-de-pyhton/blob/main/02_Operadores.ipynb\" target=\"_parent\"><img src=\"https://colab.research.google.com/assets/colab-badge.svg\" alt=\"Open In Colab\"/></a>"
      ]
    },
    {
      "cell_type": "markdown",
      "source": [
        "<h1>Operadores aritmeticos</h1>"
      ],
      "metadata": {
        "id": "BeqSeiAhAOmB"
      }
    },
    {
      "cell_type": "code",
      "execution_count": null,
      "metadata": {
        "id": "6TNm24dtAKxK",
        "colab": {
          "base_uri": "https://localhost:8080/"
        },
        "outputId": "f1326ed1-3243-40bb-c120-1c79a3b785e1"
      },
      "outputs": [
        {
          "output_type": "stream",
          "name": "stdout",
          "text": [
            "Suma:  3\n",
            "Resta:  1\n",
            "Multiplicacion: 30\n",
            "Division:  3\n",
            "Division:  3.5\n",
            "Modulo:  1\n",
            "Exponente 8\n"
          ]
        }
      ],
      "source": [
        "print(\"Suma: \", 1+2)\n",
        "print(\"Resta: \", 6-5)\n",
        "print('Multiplicacion:', 5*6)\n",
        "print(\"Division: \", 7//2)\n",
        "print(\"Division: \", 7/2)\n",
        "print('Modulo: ', 3%2)\n",
        "print('Exponente', 2 ** 3)"
      ]
    },
    {
      "cell_type": "markdown",
      "source": [
        "podemos unir palabras usando operadores"
      ],
      "metadata": {
        "id": "wqkk2g0WBDFV"
      }
    },
    {
      "cell_type": "code",
      "source": [
        "print('Hola', 'Python')\n",
        "print('Hola' + 'Python')\n",
        "print('Hola' + str(5))\n",
        "print('Hola' * 5)"
      ],
      "metadata": {
        "id": "TP6JN1XYBGU2",
        "colab": {
          "base_uri": "https://localhost:8080/"
        },
        "outputId": "1d138150-a03f-4966-e8d3-f91beac2b02a"
      },
      "execution_count": null,
      "outputs": [
        {
          "output_type": "stream",
          "name": "stdout",
          "text": [
            "Hola Python\n",
            "HolaPython\n",
            "Hola5\n",
            "HolaHolaHolaHolaHola\n"
          ]
        }
      ]
    },
    {
      "cell_type": "code",
      "source": [
        "##Estas funciones facilitan\n",
        "for i in range (11):\n",
        "  print('*' * i)"
      ],
      "metadata": {
        "colab": {
          "base_uri": "https://localhost:8080/"
        },
        "id": "1Xb3CXjbBhyx",
        "outputId": "71a65415-16bf-4939-ceda-a232cee63578"
      },
      "execution_count": null,
      "outputs": [
        {
          "output_type": "stream",
          "name": "stdout",
          "text": [
            "\n",
            "*\n",
            "**\n",
            "***\n",
            "****\n",
            "*****\n",
            "******\n",
            "*******\n",
            "********\n",
            "*********\n",
            "**********\n"
          ]
        }
      ]
    },
    {
      "cell_type": "markdown",
      "source": [
        "Ademas podemos usar los operadores con las variables"
      ],
      "metadata": {
        "id": "--ajsrNdCDdc"
      }
    },
    {
      "cell_type": "code",
      "source": [
        "pizza = 20\n",
        "refresco = 15\n",
        "compra = pizza + refresco\n",
        "propina = compra * 0.2\n",
        "total = compra + propina \n",
        "print(\"Usted debe pagar: \", compra, 'de propina ud debe', propina, 'su total es:', total)"
      ],
      "metadata": {
        "id": "KDiSAic0B8UJ",
        "colab": {
          "base_uri": "https://localhost:8080/"
        },
        "outputId": "e5fa42de-21ae-4c92-d84f-ce16ee560ffc"
      },
      "execution_count": null,
      "outputs": [
        {
          "output_type": "stream",
          "name": "stdout",
          "text": [
            "Usted debe pagar:  35 de propina ud debe 7.0 su total es: 42.0\n"
          ]
        }
      ]
    },
    {
      "cell_type": "code",
      "source": [
        "##Esta funciones nos facilitan mucho el trabajo como por ejemplo\n",
        "\n",
        "x = 1\n",
        "suma = 0\n",
        "while x<=10:\n",
        "  suma += x\n",
        "  x+=1\n",
        "print(suma)"
      ],
      "metadata": {
        "id": "BnWHm4S7DEiN",
        "colab": {
          "base_uri": "https://localhost:8080/"
        },
        "outputId": "1c9ed79d-b355-431c-eba5-144c4c2323f2"
      },
      "execution_count": null,
      "outputs": [
        {
          "output_type": "stream",
          "name": "stdout",
          "text": [
            "55\n"
          ]
        }
      ]
    },
    {
      "cell_type": "code",
      "source": [
        "print('Igual a:', 2==2)   #TRUE\n",
        "print('Igual a:', 2==2.00) #TRUE\n",
        "print('Igual a:', 2==1.9999) #FALSE\n"
      ],
      "metadata": {
        "id": "8IM2hvm4Dly7",
        "colab": {
          "base_uri": "https://localhost:8080/"
        },
        "outputId": "d63c7255-2d92-4926-929f-3dc74b04d70f"
      },
      "execution_count": null,
      "outputs": [
        {
          "output_type": "stream",
          "name": "stdout",
          "text": [
            "Igual a: True\n",
            "Igual a: True\n",
            "Igual a: False\n"
          ]
        }
      ]
    },
    {
      "cell_type": "code",
      "source": [
        "print(\"Distinto de:\", 2!=2) #FALSE\n",
        "print('Distinto de: ', 2!=3)  #TRUE"
      ],
      "metadata": {
        "id": "Nm6JObqHEGRm",
        "colab": {
          "base_uri": "https://localhost:8080/"
        },
        "outputId": "1689fed9-3f73-407e-d3f4-6234e6db42d3"
      },
      "execution_count": null,
      "outputs": [
        {
          "output_type": "stream",
          "name": "stdout",
          "text": [
            "Distinto de: False\n",
            "Distinto de:  True\n"
          ]
        }
      ]
    },
    {
      "cell_type": "code",
      "source": [
        "print('Mayor que:', 2>3)#FALSE\n",
        "print('Menor que:', 2<3)#TRUE\n",
        "print('Mayor o igual que:', 4>=3)#TRUE\n",
        "print('Mayor o igual que:', 3>=3)#TRUE\n",
        "print(\"Menor o igual que:\", 3<=3 )#TRUE\n",
        "print(\"Menor o igual que:\", 4<=4 )#TRUE\n"
      ],
      "metadata": {
        "id": "PXbCFb_KEbjY",
        "colab": {
          "base_uri": "https://localhost:8080/"
        },
        "outputId": "41e63de5-1adf-4b57-9501-68af0eb1f082"
      },
      "execution_count": null,
      "outputs": [
        {
          "output_type": "stream",
          "name": "stdout",
          "text": [
            "Mayor que: False\n",
            "Menor que: True\n",
            "Mayor o igual que: True\n",
            "Mayor o igual que: True\n",
            "Menor o igual que: True\n",
            "Menor o igual que: True\n"
          ]
        }
      ]
    },
    {
      "cell_type": "code",
      "source": [
        "print(len('mango') == len('melón'))#TRUE\n",
        "print(len('mango') != len('melón'))#FALSE\n",
        "print(len('mango') < len('melón'))#FALSE\n",
        "print(len('mango') > len('melón'))#FALSE\n"
      ],
      "metadata": {
        "id": "gNEmLhflE-GL",
        "colab": {
          "base_uri": "https://localhost:8080/"
        },
        "outputId": "929c394a-bd21-4ee6-8ccf-d3ece7088822"
      },
      "execution_count": null,
      "outputs": [
        {
          "output_type": "stream",
          "name": "stdout",
          "text": [
            "True\n",
            "False\n",
            "False\n",
            "False\n"
          ]
        }
      ]
    },
    {
      "cell_type": "markdown",
      "source": [
        "<h1>Operadores de comparacion con texto</h1>"
      ],
      "metadata": {
        "id": "W1wiYZ1pFhiB"
      }
    },
    {
      "cell_type": "code",
      "source": [
        "print(\"1 is 1\", 1 is 1)                      #TRUE\n",
        "print('1 is not 2', 1 is not 2)              #TRUE\n",
        "print('A en Alejandro', 'A' in 'Alejandro')   #TRUE\n",
        "print('L en Alejandro', 'L' in 'Alejandro')   #FALSE\n",
        "print('coding' in 'coding for all')           #TRUE\n",
        "print('a in an', 'a' in 'an')                 #TRUE\n",
        "print('4 is 2 ** 2:', 4 is 2 ** 2 )           #TRUE"
      ],
      "metadata": {
        "id": "BDsZgdRbFtlz",
        "colab": {
          "base_uri": "https://localhost:8080/"
        },
        "outputId": "0dfe3a9b-4ae2-4cc8-97b5-1f3fadc55523"
      },
      "execution_count": null,
      "outputs": [
        {
          "output_type": "stream",
          "name": "stdout",
          "text": [
            "1 is 1 True\n",
            "1 is not 2 True\n",
            "A en Alejandro True\n",
            "L en Alejandro False\n",
            "True\n",
            "a in an True\n",
            "4 is 2 ** 2: True\n"
          ]
        },
        {
          "output_type": "stream",
          "name": "stderr",
          "text": [
            "<>:1: SyntaxWarning: \"is\" with a literal. Did you mean \"==\"?\n",
            "<>:2: SyntaxWarning: \"is not\" with a literal. Did you mean \"!=\"?\n",
            "<>:7: SyntaxWarning: \"is\" with a literal. Did you mean \"==\"?\n",
            "<>:1: SyntaxWarning: \"is\" with a literal. Did you mean \"==\"?\n",
            "<>:2: SyntaxWarning: \"is not\" with a literal. Did you mean \"!=\"?\n",
            "<>:7: SyntaxWarning: \"is\" with a literal. Did you mean \"==\"?\n",
            "<ipython-input-2-7f061f50d35a>:1: SyntaxWarning: \"is\" with a literal. Did you mean \"==\"?\n",
            "  print(\"1 is 1\", 1 is 1)                      #TRUE\n",
            "<ipython-input-2-7f061f50d35a>:2: SyntaxWarning: \"is not\" with a literal. Did you mean \"!=\"?\n",
            "  print('1 is not 2', 1 is not 2)              #TRUE\n",
            "<ipython-input-2-7f061f50d35a>:7: SyntaxWarning: \"is\" with a literal. Did you mean \"==\"?\n",
            "  print('4 is 2 ** 2:', 4 is 2 ** 2 )           #TRUE\n"
          ]
        }
      ]
    },
    {
      "cell_type": "markdown",
      "source": [
        "Operadores logicos"
      ],
      "metadata": {
        "id": "y_44UJ9lHFsp"
      }
    },
    {
      "cell_type": "code",
      "source": [
        "print(3 > 2 and 4 > 3)          #TRUE\n",
        "print(3 > 2 and 4 < 3)          #FALSE\n",
        "print(3 < 2 and 4 < 3)          #FALSE\n",
        "print('True and True: ', True and True)   \n",
        "\n",
        "print(3 > 2 or 4 > 3)           #TRUE\n",
        "print(3 > 2 or 4 < 3)           #FALSE\n",
        "print(3 < 2 or 4 < 3)           #FALSE\n",
        "print('True or False: ', True or False )\n",
        "\n",
        "print()\n"
      ],
      "metadata": {
        "id": "Jj1euBs6HEis",
        "colab": {
          "base_uri": "https://localhost:8080/"
        },
        "outputId": "913573a7-47a7-4aaa-d9c5-37ee8173bddf"
      },
      "execution_count": null,
      "outputs": [
        {
          "output_type": "stream",
          "name": "stdout",
          "text": [
            "True\n",
            "False\n",
            "False\n",
            "True and True:  True\n",
            "True\n",
            "True\n",
            "False\n",
            "True or False:  True\n",
            "\n"
          ]
        }
      ]
    },
    {
      "cell_type": "code",
      "source": [
        "import math\n",
        "\n",
        "fahren = float(input('Ingresa grados fahrenheit: '))\n",
        "celsius = (fahren - 32)/1.8\n",
        "print('los grados celsius es: ', celsius)"
      ],
      "metadata": {
        "colab": {
          "base_uri": "https://localhost:8080/"
        },
        "id": "E4oTsIhIyMph",
        "outputId": "1a7b7d5f-8fec-40e6-9bd5-417aaf87c17b"
      },
      "execution_count": null,
      "outputs": [
        {
          "output_type": "stream",
          "name": "stdout",
          "text": [
            "Ingresa grados fahrenheit: 45\n",
            "los grados celsius es:  7.222222222222222\n"
          ]
        }
      ]
    },
    {
      "cell_type": "code",
      "source": [
        "mass = float(input('Ingresa tu peso: '))\n",
        "height = float(input('Ingresa tu altura: '))\n",
        "bml = mass/pow(height, 2)\n",
        "print('Tu indice de masa corporla es: ', bml)"
      ],
      "metadata": {
        "colab": {
          "base_uri": "https://localhost:8080/"
        },
        "id": "7gC2GKbDyQwW",
        "outputId": "5a217e31-d7c0-4a57-b57b-1a4dc2f7a6b7"
      },
      "execution_count": null,
      "outputs": [
        {
          "output_type": "stream",
          "name": "stdout",
          "text": [
            "Ingresa tu peso: 71\n",
            "Ingresa tu altura: 1.62\n",
            "Tu indice de masa corporla es:  27.053802773967377\n"
          ]
        }
      ]
    }
  ]
}