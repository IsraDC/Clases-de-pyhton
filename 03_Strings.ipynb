{
  "nbformat": 4,
  "nbformat_minor": 0,
  "metadata": {
    "colab": {
      "provenance": [],
      "authorship_tag": "ABX9TyM+ZIsKyiobgQXB5zqlDx8A",
      "include_colab_link": true
    },
    "kernelspec": {
      "name": "python3",
      "display_name": "Python 3"
    },
    "language_info": {
      "name": "python"
    }
  },
  "cells": [
    {
      "cell_type": "markdown",
      "metadata": {
        "id": "view-in-github",
        "colab_type": "text"
      },
      "source": [
        "<a href=\"https://colab.research.google.com/github/IsraDC/Clases-de-pyhton/blob/main/03_Strings.ipynb\" target=\"_parent\"><img src=\"https://colab.research.google.com/assets/colab-badge.svg\" alt=\"Open In Colab\"/></a>"
      ]
    },
    {
      "cell_type": "code",
      "execution_count": null,
      "metadata": {
        "id": "WgR60Oq2gp-E",
        "colab": {
          "base_uri": "https://localhost:8080/"
        },
        "outputId": "cd3d9159-84c0-4deb-a1db-14806d7b114f"
      },
      "outputs": [
        {
          "output_type": "stream",
          "name": "stdout",
          "text": [
            "p\n",
            "1\n",
            "13\n",
            "22\n",
            "<class 'str'>\n",
            "<class 'str'>\n",
            "<class 'str'>\n"
          ]
        }
      ],
      "source": [
        "letra = 'p'                           #una sola letra puede considerarse un string\n",
        "print(letra)                              \n",
        "print(len(letra))                     #Podemos calculas su tamaño\n",
        "saludo = 'Hello, world!'              \n",
        "print(len(saludo))                    #13\n",
        "oracion = 'hola padrino que haces'\n",
        "print(len(oracion))\n",
        "print(type(letra))\n",
        "print(type(saludo))\n",
        "print(type(oracion))\n"
      ]
    },
    {
      "cell_type": "markdown",
      "source": [
        "También se pude crear strings multilineas haciendo uso de tres pares de comillas dobles"
      ],
      "metadata": {
        "id": "o7m2BkLsiHH3"
      }
    },
    {
      "cell_type": "code",
      "source": [
        "multilinea = ''' pac man original mente se llamba puck man\n",
        "esto balmkcsjk'''\n",
        "\n",
        "#otra forma \n",
        "\n",
        "multilinea = \"\"\"pac man original mente se llamba puck man\n",
        "esto balmkcsjk\"\"\"\n",
        "print(multilinea)"
      ],
      "metadata": {
        "colab": {
          "base_uri": "https://localhost:8080/"
        },
        "id": "0RbPw9CTiDiC",
        "outputId": "d7c30a0b-24eb-4a20-9cbe-101055afac72"
      },
      "execution_count": null,
      "outputs": [
        {
          "output_type": "stream",
          "name": "stdout",
          "text": [
            "pac man original mente se llamba puck man\n",
            "esto balmkcsjk\n"
          ]
        }
      ]
    },
    {
      "cell_type": "markdown",
      "source": [
        "<h1>Secuencias de escape</h1>\n",
        "\n",
        "\n",
        "*   \\n salto linea\n",
        "*   \\t tabulador\n",
        "*   \\ back slash\n",
        "*   ' single quote\n",
        "*   *doble quote\n",
        "\n",
        "\n",
        "\n",
        "\n",
        "\n",
        "\n"
      ],
      "metadata": {
        "id": "RpjRtZOLi2xd"
      }
    },
    {
      "cell_type": "code",
      "source": [
        "print('Ejemplo de salto de linea. \\n¿Observas?')\n",
        "print('Día\\tTemas\\tEjercicios')\n",
        "print('Día 1\\t3\\t5')\n",
        "print('Este es un simbolo de back slash (\\\\)')\n",
        "print('Hola mundo \\\"hello, world\\\"')\n"
      ],
      "metadata": {
        "id": "GAwDxBVTjvgO",
        "colab": {
          "base_uri": "https://localhost:8080/"
        },
        "outputId": "3634c2ad-75e0-4ea7-c562-b310ff6864b6"
      },
      "execution_count": null,
      "outputs": [
        {
          "output_type": "stream",
          "name": "stdout",
          "text": [
            "Ejemplo de salto de linea. \n",
            "¿Observas?\n",
            "Día\tTemas\tEjercicios\n",
            "Día 1\t3\t5\n",
            "Este es un simbolo de back slash (\\)\n",
            "Hola mundo \"hello, world\"\n"
          ]
        }
      ]
    },
    {
      "cell_type": "markdown",
      "source": [
        "<h1>Strings con variables<h1>"
      ],
      "metadata": {
        "id": "PWR5Pzfrkygg"
      }
    },
    {
      "cell_type": "code",
      "source": [
        "name, surname, alias, age = 'Israel', 'garcia', 'pa', '17'\n",
        "print('me llamo: ', name, surname)\n",
        "print('mi edad es:', age, 'mis amigos me dicen: ', alias)\n",
        "print('hola me llamo {}{} mi edad es {}'.format(name,surname,age))\n",
        "print('hola me llamo %s %s mi edad es: %s'%(name, surname, age))\n",
        "print(f'Hola me llamo {name} {surname} y mi edad es: {age}')      #Esta es la mejor forma al escribir las variables en un string"
      ],
      "metadata": {
        "colab": {
          "base_uri": "https://localhost:8080/"
        },
        "id": "CZdVs0Rkk7iw",
        "outputId": "ed41cfc3-10ea-46fa-bead-fec7d8454134"
      },
      "execution_count": null,
      "outputs": [
        {
          "output_type": "stream",
          "name": "stdout",
          "text": [
            "me llamo:  Israel garcia\n",
            "mi edad es: 17 mis amigos me dicen:  pa\n",
            "hola me llamo Israelgarcia mi edad es 17\n",
            "hola me llamo Israel garcia mi edad es: 17\n",
            "Hola me llamo Israel garcia y mi edad es: 17\n"
          ]
        }
      ]
    },
    {
      "cell_type": "code",
      "source": [
        "lenguaje = 'Python'\n",
        "a,b,c,d,e,f = lenguaje\n",
        "print(a)\n",
        "print(b)\n",
        "print(c)\n",
        "print(d)\n",
        "print(e)\n",
        "print(f)"
      ],
      "metadata": {
        "colab": {
          "base_uri": "https://localhost:8080/"
        },
        "id": "V3XdIZV7nAwT",
        "outputId": "80ab15a7-e4b8-4b44-f38e-954e3c793577"
      },
      "execution_count": null,
      "outputs": [
        {
          "output_type": "stream",
          "name": "stdout",
          "text": [
            "P\n",
            "y\n",
            "t\n",
            "h\n",
            "o\n",
            "n\n"
          ]
        }
      ]
    },
    {
      "cell_type": "code",
      "source": [
        "primer_letra = lenguaje[0]\n",
        "segunda_letra = lenguaje[1]\n",
        "tercer_letra = lenguaje[2]\n",
        "print(primer_letra)\n",
        "print(segunda_letra)\n",
        "print(tercer_letra)\n",
        "print(lenguaje[3])"
      ],
      "metadata": {
        "colab": {
          "base_uri": "https://localhost:8080/"
        },
        "id": "TAbMRR8FoXhB",
        "outputId": "9a4cb874-7cec-49dd-ff35-ecc16d108322"
      },
      "execution_count": null,
      "outputs": [
        {
          "output_type": "stream",
          "name": "stdout",
          "text": [
            "P\n",
            "y\n",
            "t\n",
            "h\n"
          ]
        }
      ]
    },
    {
      "cell_type": "code",
      "source": [
        "lenguaje = 'Python'             \n",
        "primeros_tres = lenguaje[0:3]\n",
        "print(primeros_tres)\n",
        "ultimos_tres = lenguaje[3:]\n",
        "print(ultimos_tres)\n",
        "\n",
        "#otra forma en python\n",
        "ultimos_tres = lenguaje[-3:]\n",
        "print(ultimos_tres)\n",
        "ultimos_tres = lenguaje[:-3]\n",
        "print(ultimos_tres)"
      ],
      "metadata": {
        "colab": {
          "base_uri": "https://localhost:8080/"
        },
        "id": "TNgLTCXro_Rw",
        "outputId": "0274a63d-0264-4a11-d477-ffbc680bb3e0"
      },
      "execution_count": null,
      "outputs": [
        {
          "output_type": "stream",
          "name": "stdout",
          "text": [
            "Pyt\n",
            "hon\n",
            "hon\n",
            "Pyt\n"
          ]
        }
      ]
    },
    {
      "cell_type": "code",
      "source": [
        "saludo = 'Hello, world!'\n",
        "print(saludo[::-1])\n"
      ],
      "metadata": {
        "colab": {
          "base_uri": "https://localhost:8080/"
        },
        "id": "ElrTrmeCqZR5",
        "outputId": "3ee52488-e6f3-4632-a5ce-42b168589f70"
      },
      "execution_count": null,
      "outputs": [
        {
          "output_type": "stream",
          "name": "stdout",
          "text": [
            "!dlrow ,olleH\n"
          ]
        }
      ]
    },
    {
      "cell_type": "code",
      "source": [
        "lenguaje = 'Python'\n",
        "new = lenguaje[0:6:2]\n",
        "print(new)\n",
        "\n"
      ],
      "metadata": {
        "colab": {
          "base_uri": "https://localhost:8080/"
        },
        "id": "yQX8nkzIqs-i",
        "outputId": "3140b5da-72d5-4e55-e34a-6cbaa70d5619"
      },
      "execution_count": null,
      "outputs": [
        {
          "output_type": "stream",
          "name": "stdout",
          "text": [
            "Pto\n"
          ]
        }
      ]
    },
    {
      "cell_type": "code",
      "source": [
        "text = 'alejandro'\n",
        "print(text.capitalize())"
      ],
      "metadata": {
        "colab": {
          "base_uri": "https://localhost:8080/"
        },
        "id": "Dehnx4-hrDSz",
        "outputId": "701d7107-8d9e-422c-8af1-98cc01bfd958"
      },
      "execution_count": null,
      "outputs": [
        {
          "output_type": "stream",
          "name": "stdout",
          "text": [
            "Alejandro\n"
          ]
        }
      ]
    },
    {
      "cell_type": "code",
      "source": [
        "text = 'aprendiendo python en clase'\n",
        "print(text.count('a'))\n",
        "print(text.count('y', 7, 14))\n",
        "print(text.count('en'))"
      ],
      "metadata": {
        "id": "AII5gg2yr90H",
        "colab": {
          "base_uri": "https://localhost:8080/"
        },
        "outputId": "fa99da30-8565-4b8e-fad2-a5f5ff7dbbb6"
      },
      "execution_count": null,
      "outputs": [
        {
          "output_type": "stream",
          "name": "stdout",
          "text": [
            "2\n",
            "1\n",
            "3\n"
          ]
        }
      ]
    },
    {
      "cell_type": "code",
      "source": [
        "text = 'aprendiendo python en clase'\n",
        "print(text.find('y'))\n",
        "print(text.find('th'))\n",
        "print(text.find('tl'))"
      ],
      "metadata": {
        "id": "hThZNY3vsQll",
        "outputId": "f6e5c6bb-4375-4f58-9bb7-b89c59fa760b",
        "colab": {
          "base_uri": "https://localhost:8080/"
        }
      },
      "execution_count": null,
      "outputs": [
        {
          "output_type": "stream",
          "name": "stdout",
          "text": [
            "13\n",
            "14\n",
            "-1\n"
          ]
        }
      ]
    },
    {
      "cell_type": "code",
      "source": [
        "variable  = input('Ingresa una palabra: ')\n",
        "print(variable[::-1])\n"
      ],
      "metadata": {
        "id": "gBZRvv5bsyHN"
      },
      "execution_count": null,
      "outputs": []
    }
  ]
}