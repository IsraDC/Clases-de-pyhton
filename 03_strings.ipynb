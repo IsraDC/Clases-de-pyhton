{
  "nbformat": 4,
  "nbformat_minor": 0,
  "metadata": {
    "colab": {
      "provenance": [],
      "authorship_tag": "ABX9TyOOapCXdBpNVsQ6qDxCStFH",
      "include_colab_link": true
    },
    "kernelspec": {
      "name": "python3",
      "display_name": "Python 3"
    },
    "language_info": {
      "name": "python"
    }
  },
  "cells": [
    {
      "cell_type": "markdown",
      "metadata": {
        "id": "view-in-github",
        "colab_type": "text"
      },
      "source": [
        "<a href=\"https://colab.research.google.com/github/IsraDC/Clases-de-pyhton/blob/main/03_strings.ipynb\" target=\"_parent\"><img src=\"https://colab.research.google.com/assets/colab-badge.svg\" alt=\"Open In Colab\"/></a>"
      ]
    },
    {
      "cell_type": "code",
      "execution_count": null,
      "metadata": {
        "id": "WgR60Oq2gp-E"
      },
      "outputs": [],
      "source": [
        "letra = 'p'                           #una sola letra puede considerarse un string\n",
        "print(letra)                              \n",
        "print(len(letra))                     #Podemos calculas su tamaño\n",
        "saludo = 'Hello, world!'\n",
        "print(len(saludo))                    #13\n",
        "oracion = 'hola padrino que haces'\n",
        "print(len(oracion))\n",
        "print(type(letra))\n",
        "print(type(saludo))\n",
        "print(type(oracion))\n"
      ]
    },
    {
      "cell_type": "markdown",
      "source": [
        "También se pude crear strings multilineas haciendo uso de tres pares de comillas dobles"
      ],
      "metadata": {
        "id": "o7m2BkLsiHH3"
      }
    },
    {
      "cell_type": "code",
      "source": [
        "multilinea = ''' pac man original mente se llamba puck man\n",
        "esto balmkcsjk'''\n",
        "\n",
        "#otra forma \n",
        "\n",
        "multilinea = \"\"\"pac man original mente se llamba puck man\n",
        "esto balmkcsjk\"\"\"\n",
        "print(multilinea)"
      ],
      "metadata": {
        "colab": {
          "base_uri": "https://localhost:8080/"
        },
        "id": "0RbPw9CTiDiC",
        "outputId": "518ed2bc-bef5-4573-9917-cc5be63fdaae"
      },
      "execution_count": 1,
      "outputs": [
        {
          "output_type": "stream",
          "name": "stdout",
          "text": [
            "pac man original mente se llamba puck man\n",
            "esto balmkcsjk\n"
          ]
        }
      ]
    },
    {
      "cell_type": "markdown",
      "source": [
        "<h1>Secuencias de escape</h1>\n",
        "\n",
        "\n",
        "*   \\n salto linea\n",
        "*   \\t tabulador\n",
        "*   \\ back slash\n",
        "*   ' single quote\n",
        "*   * doble quote\n",
        "\n",
        "\n",
        "\n",
        "\n",
        "\n",
        "\n"
      ],
      "metadata": {
        "id": "RpjRtZOLi2xd"
      }
    },
    {
      "cell_type": "code",
      "source": [
        "print('ejemplo de salto de linea \\nhola')\n",
        "print('Día\\tTemas\\tEjercicios')\n",
        "print('Día 1\\t3\\t5')\n",
        "print('este es un simbolo de back slash (\\\\)')\n",
        "print('hola mundo \\\"hello, world\\\"')\n"
      ],
      "metadata": {
        "id": "GAwDxBVTjvgO"
      },
      "execution_count": null,
      "outputs": []
    },
    {
      "cell_type": "markdown",
      "source": [
        "<h1>Strings con variables<h1>"
      ],
      "metadata": {
        "id": "PWR5Pzfrkygg"
      }
    },
    {
      "cell_type": "code",
      "source": [
        "name, surname, alias, age = 'Israel', 'garcia', 'pa', '17'\n",
        "print('me llamo: ', name, surname)\n",
        "print('mi edad es:', age, 'mis amigos me dicen: ', alias)\n",
        "print('hola me llamo {}{} mi edad es {}'.format(name,surname,age))\n",
        "print('hola me llamo %s %s mi edad es: %s'%(name, surname, age))\n",
        "print(f'Hola me llamo {name} {surname} y mi edad es: {age}')      #Esta es la mejor forma al escribir las variables en un string"
      ],
      "metadata": {
        "colab": {
          "base_uri": "https://localhost:8080/"
        },
        "id": "CZdVs0Rkk7iw",
        "outputId": "e8e8ce3c-3de3-44ca-d45a-0f767cbeed2b"
      },
      "execution_count": 6,
      "outputs": [
        {
          "output_type": "stream",
          "name": "stdout",
          "text": [
            "me llamo:  Israel garcia\n",
            "mi edad es: 17 mis amigos me dicen:  pa\n",
            "hola me llamo Israelgarcia mi edad es 17\n",
            "hola me llamo Israel garcia mi edad es: 17\n",
            "Hola me llamo Israel garcia y mi edad es: 17\n"
          ]
        }
      ]
    },
    {
      "cell_type": "code",
      "source": [
        "lenguaje = 'Python'\n",
        "a,b,c,d,e,f = lenguaje\n",
        "print(a)\n",
        "print(b)\n",
        "print(c)\n",
        "print(d)\n",
        "print(e)\n",
        "print(f)"
      ],
      "metadata": {
        "colab": {
          "base_uri": "https://localhost:8080/"
        },
        "id": "V3XdIZV7nAwT",
        "outputId": "2b428811-f6b1-49e6-b5c6-34d4169e4cc9"
      },
      "execution_count": 4,
      "outputs": [
        {
          "output_type": "stream",
          "name": "stdout",
          "text": [
            "P\n",
            "y\n",
            "t\n",
            "h\n",
            "o\n",
            "n\n"
          ]
        }
      ]
    },
    {
      "cell_type": "code",
      "source": [
        "primer_letra = lenguaje[0]\n",
        "segunda_letra = lenguaje[1]\n",
        "tercer_letra = lenguaje[2]\n",
        "print(primer_letra)\n",
        "print(segunda_letra)\n",
        "print(tercer_letra)\n",
        "print(lenguaje[3])"
      ],
      "metadata": {
        "colab": {
          "base_uri": "https://localhost:8080/"
        },
        "id": "TAbMRR8FoXhB",
        "outputId": "9cbdf88c-8829-43d7-848a-54860f2912bc"
      },
      "execution_count": 10,
      "outputs": [
        {
          "output_type": "stream",
          "name": "stdout",
          "text": [
            "P\n",
            "y\n",
            "t\n",
            "h\n"
          ]
        }
      ]
    },
    {
      "cell_type": "code",
      "source": [
        "lenguaje = 'Python'             \n",
        "primeros_tres = lenguaje[0:3]\n",
        "print(primeros_tres)\n",
        "ultimos_tres = lenguaje[3:]\n",
        "print(ultimos_tres)\n",
        "\n",
        "#otra forma en python\n",
        "ultimos_tres = lenguaje[-3:]\n",
        "print(ultimos_tres)\n",
        "ultimos_tres = lenguaje[:-3]\n",
        "print(ultimos_tres)"
      ],
      "metadata": {
        "colab": {
          "base_uri": "https://localhost:8080/"
        },
        "id": "TNgLTCXro_Rw",
        "outputId": "821d9edd-e206-46f0-8d6f-ab6af2507f8d"
      },
      "execution_count": 19,
      "outputs": [
        {
          "output_type": "stream",
          "name": "stdout",
          "text": [
            "Pyt\n",
            "hon\n",
            "hon\n",
            "Pyt\n"
          ]
        }
      ]
    },
    {
      "cell_type": "code",
      "source": [
        "saludo = 'Hello, world!'\n",
        "print(saludo[::-1])\n"
      ],
      "metadata": {
        "colab": {
          "base_uri": "https://localhost:8080/"
        },
        "id": "ElrTrmeCqZR5",
        "outputId": "25da05ae-abd4-4713-e26a-905959d5871b"
      },
      "execution_count": 20,
      "outputs": [
        {
          "output_type": "stream",
          "name": "stdout",
          "text": [
            "!dlrow ,olleH\n"
          ]
        }
      ]
    },
    {
      "cell_type": "code",
      "source": [
        "lenguaje = 'Python'\n",
        "new = lenguaje[0:6:2]\n",
        "print(new)\n",
        "\n"
      ],
      "metadata": {
        "colab": {
          "base_uri": "https://localhost:8080/"
        },
        "id": "yQX8nkzIqs-i",
        "outputId": "63a79314-6dfa-478a-ef48-3bd97069c7a0"
      },
      "execution_count": 32,
      "outputs": [
        {
          "output_type": "stream",
          "name": "stdout",
          "text": [
            "Pto\n"
          ]
        }
      ]
    },
    {
      "cell_type": "code",
      "source": [
        "text = 'alejandro'\n",
        "print(text.capitalize())"
      ],
      "metadata": {
        "colab": {
          "base_uri": "https://localhost:8080/"
        },
        "id": "Dehnx4-hrDSz",
        "outputId": "85207a0a-1608-4b3c-a69f-9e997c9a0725"
      },
      "execution_count": 21,
      "outputs": [
        {
          "output_type": "stream",
          "name": "stdout",
          "text": [
            "Alejandro\n"
          ]
        }
      ]
    },
    {
      "cell_type": "code",
      "source": [
        "text = 'aprendiendo python en clase'\n",
        "print(text.count('a'))\n",
        "print(text.count('y', 7, 14))\n",
        "print(text.count('en'))"
      ],
      "metadata": {
        "id": "AII5gg2yr90H"
      },
      "execution_count": null,
      "outputs": []
    },
    {
      "cell_type": "code",
      "source": [
        "text = 'aprendiendo python en clase'\n",
        "print(text.find('y'))\n",
        "print(text.find('th'))\n",
        "print(text.find('am'))"
      ],
      "metadata": {
        "colab": {
          "base_uri": "https://localhost:8080/"
        },
        "id": "hThZNY3vsQll",
        "outputId": "59e72347-2c32-41ce-af13-1e4131f74097"
      },
      "execution_count": 24,
      "outputs": [
        {
          "output_type": "stream",
          "name": "stdout",
          "text": [
            "13\n",
            "14\n",
            "-1\n"
          ]
        }
      ]
    },
    {
      "cell_type": "code",
      "source": [
        "variable  = input('Ingresa una palabra: ')\n",
        "print(variable[::-1])\n"
      ],
      "metadata": {
        "colab": {
          "base_uri": "https://localhost:8080/"
        },
        "id": "gBZRvv5bsyHN",
        "outputId": "051742fc-77e5-49e1-b55b-2de41f3adc86"
      },
      "execution_count": 27,
      "outputs": [
        {
          "output_type": "stream",
          "name": "stdout",
          "text": [
            "Ingresa una palabra: ANITALAVALATINA\n",
            "ANITALAVALATINA\n"
          ]
        }
      ]
    }
  ]
}