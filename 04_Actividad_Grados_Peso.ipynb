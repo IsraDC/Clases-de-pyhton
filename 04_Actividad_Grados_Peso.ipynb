{
  "cells": [
    {
      "cell_type": "markdown",
      "metadata": {
        "id": "view-in-github",
        "colab_type": "text"
      },
      "source": [
        "<a href=\"https://colab.research.google.com/github/IsraDC/Clases-de-pyhton/blob/main/04_Actividad_Grados_Peso.ipynb\" target=\"_parent\"><img src=\"https://colab.research.google.com/assets/colab-badge.svg\" alt=\"Open In Colab\"/></a>"
      ]
    },
    {
      "cell_type": "code",
      "execution_count": null,
      "metadata": {
        "colab": {
          "background_save": true
        },
        "id": "_6RRPQbp9Jss",
        "outputId": "f7c72dfa-0814-4795-c296-b51d04590c32"
      },
      "outputs": [
        {
          "name": "stdout",
          "output_type": "stream",
          "text": [
            "los grados celsius es:  15.555555555555555\n"
          ]
        }
      ],
      "source": [
        "import math\n",
        "\n",
        "fahren = float(input('Ingresa grados fahrenheit: '))\n",
        "celsius = (fahren - 32)/1.8\n",
        "print('los grados celsius es: ', celsius)"
      ]
    },
    {
      "cell_type": "code",
      "execution_count": null,
      "metadata": {
        "colab": {
          "base_uri": "https://localhost:8080/"
        },
        "id": "W1wx6bLl_3Vu",
        "outputId": "fd08b74b-1b74-45be-a592-2eb845cf5735"
      },
      "outputs": [
        {
          "name": "stdout",
          "output_type": "stream",
          "text": [
            "Ingresa tu peso: 60\n",
            "Ingresa tu altura: 1.60\n",
            "Tu indice de masa corporla es:  23.437499999999996\n"
          ]
        }
      ],
      "source": [
        "mass = float(input('Ingresa tu peso: '))\n",
        "height = float(input('Ingresa tu altura: '))\n",
        "bml = mass/pow(height, 2)\n",
        "print('Tu indice de masa corporla es: ', bml)"
      ]
    }
  ],
  "metadata": {
    "colab": {
      "provenance": [],
      "authorship_tag": "ABX9TyMiFsbygYESjgdo05KEaJLh",
      "include_colab_link": true
    },
    "kernelspec": {
      "display_name": "Python 3",
      "name": "python3"
    },
    "language_info": {
      "name": "python"
    }
  },
  "nbformat": 4,
  "nbformat_minor": 0
}