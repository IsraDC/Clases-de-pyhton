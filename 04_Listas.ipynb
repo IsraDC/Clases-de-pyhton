{
  "nbformat": 4,
  "nbformat_minor": 0,
  "metadata": {
    "colab": {
      "provenance": [],
      "authorship_tag": "ABX9TyMpajgaQSJ8gUVzXaDbDfVv",
      "include_colab_link": true
    },
    "kernelspec": {
      "name": "python3",
      "display_name": "Python 3"
    },
    "language_info": {
      "name": "python"
    }
  },
  "cells": [
    {
      "cell_type": "markdown",
      "metadata": {
        "id": "view-in-github",
        "colab_type": "text"
      },
      "source": [
        "<a href=\"https://colab.research.google.com/github/IsraDC/Clases-de-pyhton/blob/main/04_Listas.ipynb\" target=\"_parent\"><img src=\"https://colab.research.google.com/assets/colab-badge.svg\" alt=\"Open In Colab\"/></a>"
      ]
    },
    {
      "cell_type": "code",
      "execution_count": 1,
      "metadata": {
        "colab": {
          "base_uri": "https://localhost:8080/"
        },
        "id": "cHXsRQ5fwkpz",
        "outputId": "6d8f7116-6071-44fc-ae36-042844ec74db"
      },
      "outputs": [
        {
          "output_type": "stream",
          "name": "stdout",
          "text": [
            "0\n",
            "0\n"
          ]
        }
      ],
      "source": [
        "my_list = list()\n",
        "other_list = []\n",
        "\n",
        "print(len(my_list))\n",
        "print(len(other_list))"
      ]
    },
    {
      "cell_type": "code",
      "source": [
        "my_list = [4,5,6,7,8,9]\n",
        "print(my_list)\n",
        "print(type(my_list))\n",
        "print(len(my_list))\n",
        "print(my_list[0])\n",
        "\n",
        "other_list = [1, 2.5, 3, 'Isra', 'García']\n",
        "print(other_list)\n",
        "print(type(other_list))\n",
        "\n",
        "print(other_list[0])\n",
        "print(other_list[-1])\n",
        "print(other_list[-5])"
      ],
      "metadata": {
        "colab": {
          "base_uri": "https://localhost:8080/"
        },
        "id": "7Gp9HWcyxe8g",
        "outputId": "915ae320-4019-4bef-b556-90c0b0abe579"
      },
      "execution_count": 5,
      "outputs": [
        {
          "output_type": "stream",
          "name": "stdout",
          "text": [
            "[4, 5, 6, 7, 8, 9]\n",
            "<class 'list'>\n",
            "6\n",
            "4\n",
            "[1, 2.5, 3, 'Isra', 'García']\n",
            "<class 'list'>\n",
            "1\n",
            "García\n",
            "1\n"
          ]
        }
      ]
    },
    {
      "cell_type": "code",
      "source": [
        "other_list = [1, 2.5, 3, 'Isra', 'Garcia', 'ptra', 'Garcia']\n",
        "print(other_list.count('Garcia'))"
      ],
      "metadata": {
        "id": "G_lCLpiuzISq"
      },
      "execution_count": null,
      "outputs": []
    },
    {
      "cell_type": "markdown",
      "source": [
        "Contar componentes de una lista"
      ],
      "metadata": {
        "id": "q9_gD0qGzIst"
      }
    },
    {
      "cell_type": "code",
      "source": [
        "frutas = ['Manzana', 'naranja', 'mango']\n",
        "print(frutas)\n",
        "frutas.append('Manzana')\n",
        "print(frutas)\n",
        "frutas.append('hola')\n",
        "print(frutas)\n",
        "frutas.append(7.5)\n",
        "print(frutas)"
      ],
      "metadata": {
        "colab": {
          "base_uri": "https://localhost:8080/"
        },
        "id": "PSUZFXTvzkoN",
        "outputId": "9869047b-6e6c-4f9c-9fbd-06ddebd5d10c"
      },
      "execution_count": 7,
      "outputs": [
        {
          "output_type": "stream",
          "name": "stdout",
          "text": [
            "['Manzana', 'naranja', 'mango']\n",
            "['Manzana', 'naranja', 'mango', 'Manzana']\n",
            "['Manzana', 'naranja', 'mango', 'Manzana', 'hola']\n",
            "['Manzana', 'naranja', 'mango', 'Manzana', 'hola', 7.5]\n"
          ]
        }
      ]
    },
    {
      "cell_type": "code",
      "source": [
        "frutas = ['Manzana', 'naranja', 'mango']\n",
        "print(frutas)\n",
        "frutas.insert(2, 'Aguacate')\n",
        "print(frutas)\n",
        "frutas.insert(4, 'Aguacate')\n",
        "print(frutas)\n",
        "frutas.insert(1, 'Aguacate')\n",
        "print(frutas)"
      ],
      "metadata": {
        "colab": {
          "base_uri": "https://localhost:8080/"
        },
        "id": "-CiJ3X0Fz959",
        "outputId": "c1352d29-cb21-4e86-dd34-3d6d63e40d46"
      },
      "execution_count": 9,
      "outputs": [
        {
          "output_type": "stream",
          "name": "stdout",
          "text": [
            "['Manzana', 'naranja', 'mango']\n",
            "['Manzana', 'naranja', 'Aguacate', 'mango']\n",
            "['Manzana', 'naranja', 'Aguacate', 'mango', 'Aguacate']\n",
            "['Manzana', 'Aguacate', 'naranja', 'Aguacate', 'mango', 'Aguacate']\n"
          ]
        }
      ]
    },
    {
      "cell_type": "markdown",
      "source": [
        "<h1>Remover componentes de una lista</h1>"
      ],
      "metadata": {
        "id": "BY1YLZSz0Trr"
      }
    },
    {
      "cell_type": "code",
      "source": [
        "frutas = ['Manzana', 'naranja', 'mango', 'manzana', 'Manzana']\n",
        "print(frutas)\n",
        "frutas.remove('Manzana')\n",
        "print(frutas)\n",
        "frutas.remove('naranja')\n",
        "print(frutas)\n",
        "frutas.remove(frutas[0])\n",
        "print(frutas)\n"
      ],
      "metadata": {
        "colab": {
          "base_uri": "https://localhost:8080/"
        },
        "id": "L0j04j8F0ZOe",
        "outputId": "ae5bf713-9d6e-4bea-8b9d-b00fb9002ac3"
      },
      "execution_count": 14,
      "outputs": [
        {
          "output_type": "stream",
          "name": "stdout",
          "text": [
            "['Manzana', 'naranja', 'mango', 'manzana', 'Manzana']\n",
            "['naranja', 'mango', 'manzana', 'Manzana']\n",
            "['mango', 'manzana', 'Manzana']\n",
            "['manzana', 'Manzana']\n"
          ]
        }
      ]
    },
    {
      "cell_type": "markdown",
      "source": [
        "unir listas"
      ],
      "metadata": {
        "id": "nR3WEg871zlj"
      }
    },
    {
      "cell_type": "code",
      "source": [
        "positivos = [1, 2, 3, 4]\n",
        "cero = [0]\n",
        "negativos = [-1, -2, -3, -4]\n",
        "enteros = negativos + cero + positivos\n",
        "print(enteros)\n",
        "print(len(enteros))"
      ],
      "metadata": {
        "colab": {
          "base_uri": "https://localhost:8080/"
        },
        "id": "_sa7diTd10za",
        "outputId": "98b0f635-5d60-4207-9d9c-4910900232b1"
      },
      "execution_count": 16,
      "outputs": [
        {
          "output_type": "stream",
          "name": "stdout",
          "text": [
            "[-1, -2, -3, -4, 0, 1, 2, 3, 4]\n",
            "9\n"
          ]
        }
      ]
    }
  ]
}