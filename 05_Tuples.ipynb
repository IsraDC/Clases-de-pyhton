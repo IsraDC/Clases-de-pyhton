{
  "nbformat": 4,
  "nbformat_minor": 0,
  "metadata": {
    "colab": {
      "provenance": [],
      "authorship_tag": "ABX9TyPJZ3lbbr+iMJaEFuvKm2Vx",
      "include_colab_link": true
    },
    "kernelspec": {
      "name": "python3",
      "display_name": "Python 3"
    },
    "language_info": {
      "name": "python"
    }
  },
  "cells": [
    {
      "cell_type": "markdown",
      "metadata": {
        "id": "view-in-github",
        "colab_type": "text"
      },
      "source": [
        "<a href=\"https://colab.research.google.com/github/IsraDC/Clases-de-pyhton/blob/main/05_Tuples.ipynb\" target=\"_parent\"><img src=\"https://colab.research.google.com/assets/colab-badge.svg\" alt=\"Open In Colab\"/></a>"
      ]
    },
    {
      "cell_type": "markdown",
      "source": [
        "<h1>diferencias de una tuple y lista</h1>\n",
        "nombre y enlazador"
      ],
      "metadata": {
        "id": "bJKAC2uXl0F-"
      }
    },
    {
      "cell_type": "code",
      "execution_count": null,
      "metadata": {
        "id": "xTDfNNwqiyZl"
      },
      "outputs": [],
      "source": [
        "my_tuple = tuple()\n",
        "other_tuple= ()"
      ]
    },
    {
      "cell_type": "code",
      "source": [
        "my_tuple = (1, 2.4, 3, 'Isra', 'García', 'aguilar', 'Isra')\n",
        "print(my_tuple)\n",
        "print(type(my_tuple))\n"
      ],
      "metadata": {
        "colab": {
          "base_uri": "https://localhost:8080/"
        },
        "id": "vNyYc0XojLY6",
        "outputId": "d0aabb94-b28e-4435-878b-cc779aa39519"
      },
      "execution_count": null,
      "outputs": [
        {
          "output_type": "stream",
          "name": "stdout",
          "text": [
            "(1, 2.4, 3, 'Isra', 'García', 'aguilar', 'Isra')\n",
            "<class 'tuple'>\n"
          ]
        }
      ]
    },
    {
      "cell_type": "code",
      "source": [
        "print(my_tuple.count('Isra'))"
      ],
      "metadata": {
        "colab": {
          "base_uri": "https://localhost:8080/"
        },
        "id": "YoTvzoGTjtn_",
        "outputId": "f4f51ba8-f402-4359-d506-dcac4524fcc7"
      },
      "execution_count": null,
      "outputs": [
        {
          "output_type": "stream",
          "name": "stdout",
          "text": [
            "2\n"
          ]
        }
      ]
    },
    {
      "cell_type": "code",
      "source": [
        "print(my_tuple[0])\n",
        "print(my_tuple[-1])"
      ],
      "metadata": {
        "colab": {
          "base_uri": "https://localhost:8080/"
        },
        "id": "cHL2HQ-7kjQd",
        "outputId": "5a524ef0-5e7f-4a8e-9b25-7590d81499ad"
      },
      "execution_count": null,
      "outputs": [
        {
          "output_type": "stream",
          "name": "stdout",
          "text": [
            "1\n",
            "Isra\n"
          ]
        }
      ]
    },
    {
      "cell_type": "markdown",
      "source": [
        "<h1>Unir tuples</h1>\n"
      ],
      "metadata": {
        "id": "LZb9-u8Nlt4Q"
      }
    },
    {
      "cell_type": "code",
      "source": [
        "tpl1 = ('item1', 'item2', 'item3')\n",
        "tpl2 = ('item4', 'item5', 'item6')\n",
        "tpl3 = tpl1 + tpl2\n",
        "print(tpl3)"
      ],
      "metadata": {
        "colab": {
          "base_uri": "https://localhost:8080/"
        },
        "id": "LTgjAYN-lHCO",
        "outputId": "4fd4daa2-82e0-4594-c5c6-d22fae5fa5e1"
      },
      "execution_count": null,
      "outputs": [
        {
          "output_type": "stream",
          "name": "stdout",
          "text": [
            "('item1', 'item2', 'item3', 'item4', 'item5', 'item6')\n"
          ]
        }
      ]
    },
    {
      "cell_type": "markdown",
      "source": [
        "no se puede insertar en una tuple valores inmutables"
      ],
      "metadata": {
        "id": "scAOT52cmn6f"
      }
    }
  ]
}