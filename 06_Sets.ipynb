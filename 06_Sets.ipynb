{
  "nbformat": 4,
  "nbformat_minor": 0,
  "metadata": {
    "colab": {
      "provenance": [],
      "authorship_tag": "ABX9TyMfmun5MeE89YeIBJj1UHgc",
      "include_colab_link": true
    },
    "kernelspec": {
      "name": "python3",
      "display_name": "Python 3"
    },
    "language_info": {
      "name": "python"
    }
  },
  "cells": [
    {
      "cell_type": "markdown",
      "metadata": {
        "id": "view-in-github",
        "colab_type": "text"
      },
      "source": [
        "<a href=\"https://colab.research.google.com/github/IsraDC/Clases-de-pyhton/blob/main/06_Sets.ipynb\" target=\"_parent\"><img src=\"https://colab.research.google.com/assets/colab-badge.svg\" alt=\"Open In Colab\"/></a>"
      ]
    },
    {
      "cell_type": "code",
      "execution_count": null,
      "metadata": {
        "colab": {
          "base_uri": "https://localhost:8080/"
        },
        "id": "H9oN1aPh4A3Z",
        "outputId": "cbdf837d-371a-4ff2-9ded-59cbce92353b"
      },
      "outputs": [
        {
          "output_type": "stream",
          "name": "stdout",
          "text": [
            "<class 'set'>\n",
            "<class 'dict'>\n"
          ]
        }
      ],
      "source": [
        "my_set = set()\n",
        "other_set = {}\n",
        "print(type(my_set))\n",
        "print(type(other_set))"
      ]
    },
    {
      "cell_type": "code",
      "source": [
        "other_set = {1, 2.4, 3, 'Isra', 'García', 'aguilar', 'Isra'}\n",
        "print(type(other_set))"
      ],
      "metadata": {
        "colab": {
          "base_uri": "https://localhost:8080/"
        },
        "id": "dMNX9z9e5GKR",
        "outputId": "1ce6e521-11ee-44a8-90a8-195e4548fe73"
      },
      "execution_count": null,
      "outputs": [
        {
          "output_type": "stream",
          "name": "stdout",
          "text": [
            "<class 'set'>\n"
          ]
        }
      ]
    },
    {
      "cell_type": "code",
      "source": [
        "my_set = {'banana', 'naranja', 'mango', 'limon'}\n",
        "print(len(my_set))\n",
        "print(my_set)"
      ],
      "metadata": {
        "colab": {
          "base_uri": "https://localhost:8080/"
        },
        "id": "sV8FV5T-5Qig",
        "outputId": "5cdb5c80-8f4b-4204-b7a2-6ace63381f7f"
      },
      "execution_count": null,
      "outputs": [
        {
          "output_type": "stream",
          "name": "stdout",
          "text": [
            "4\n",
            "{'naranja', 'limon', 'mango', 'banana'}\n"
          ]
        }
      ]
    },
    {
      "cell_type": "code",
      "source": [
        "print(my_set)\n",
        "my_set.add('manzana')\n",
        "print(my_set)"
      ],
      "metadata": {
        "colab": {
          "base_uri": "https://localhost:8080/"
        },
        "id": "bite8gyx6bWN",
        "outputId": "2ac53e54-be8d-4af3-bf20-4780090df185"
      },
      "execution_count": null,
      "outputs": [
        {
          "output_type": "stream",
          "name": "stdout",
          "text": [
            "{'naranja', 'limon', 'mango', 'banana'}\n",
            "{'mango', 'banana', 'limon', 'naranja', 'manzana'}\n"
          ]
        }
      ]
    },
    {
      "cell_type": "code",
      "source": [
        "print(my_set)\n",
        "vegetales = {'tomate', 'papa', 'zanahoria'}\n",
        "print(vegetales)\n",
        "my_set.update(vegetales)\n",
        "print(my_set)"
      ],
      "metadata": {
        "colab": {
          "base_uri": "https://localhost:8080/"
        },
        "id": "4e4e03fR6eTQ",
        "outputId": "45d3a880-104b-4ddd-c236-a2f9e3ab1c36"
      },
      "execution_count": null,
      "outputs": [
        {
          "output_type": "stream",
          "name": "stdout",
          "text": [
            "{'mango', 'banana', 'limon', 'naranja', 'manzana'}\n",
            "{'zanahoria', 'papa', 'tomate'}\n",
            "{'mango', 'banana', 'papa', 'limon', 'naranja', 'tomate', 'zanahoria', 'manzana'}\n"
          ]
        }
      ]
    },
    {
      "cell_type": "markdown",
      "source": [
        "no se puede consultar en una posicion como en un array\n",
        "\n",
        "1.   Elemento de lista\n",
        "2.   Elemento de lista"
      ],
      "metadata": {
        "id": "NBKU4kgZczdj"
      }
    },
    {
      "cell_type": "code",
      "source": [
        "frutas = {'mango', 'manzana', 'uva'}"
      ],
      "metadata": {
        "id": "KcmTwPrC8LMP"
      },
      "execution_count": null,
      "outputs": []
    },
    {
      "cell_type": "code",
      "source": [
        "print('existe mango', 'mango' in frutas)"
      ],
      "metadata": {
        "colab": {
          "base_uri": "https://localhost:8080/"
        },
        "id": "irjgCOxg8wrz",
        "outputId": "82838ee7-9eb2-4933-f65c-04b543654b50"
      },
      "execution_count": null,
      "outputs": [
        {
          "output_type": "stream",
          "name": "stdout",
          "text": [
            "existe mango True\n"
          ]
        }
      ]
    },
    {
      "cell_type": "code",
      "source": [
        "frutas.remove('mango')\n",
        "print(frutas)"
      ],
      "metadata": {
        "colab": {
          "base_uri": "https://localhost:8080/"
        },
        "id": "q1KfiV8M8z2i",
        "outputId": "69b5123f-6d04-4cc5-d081-ab39c05f3af1"
      },
      "execution_count": null,
      "outputs": [
        {
          "output_type": "stream",
          "name": "stdout",
          "text": [
            "{'uva', 'manzana'}\n"
          ]
        }
      ]
    },
    {
      "cell_type": "code",
      "source": [
        "frutas = {'mango', 'manzana', 'uva'}\n",
        "vegetales = {'tomate', 'papa', 'zanahoria'}\n",
        "print(frutas.union(vegetales))"
      ],
      "metadata": {
        "colab": {
          "base_uri": "https://localhost:8080/"
        },
        "id": "xlA-__0T83Ku",
        "outputId": "2330f536-cac9-4e06-8ad5-ab14b1c53468"
      },
      "execution_count": null,
      "outputs": [
        {
          "output_type": "stream",
          "name": "stdout",
          "text": [
            "{'uva', 'mango', 'papa', 'tomate', 'zanahoria', 'manzana'}\n"
          ]
        }
      ]
    },
    {
      "cell_type": "code",
      "source": [
        "numeros = {0, 1, 2, 3, 4, 5, 6, 7, 8, 9}\n",
        "numeros_pares = {2, 4, 6, 8, 10, 12, 14}\n",
        "print(numeros.intersection(numeros_pares))"
      ],
      "metadata": {
        "colab": {
          "base_uri": "https://localhost:8080/"
        },
        "id": "RTJJTlrJ86zP",
        "outputId": "ff0162c4-4254-4e09-f08e-eab65fc9e95f"
      },
      "execution_count": null,
      "outputs": [
        {
          "output_type": "stream",
          "name": "stdout",
          "text": [
            "{8, 2, 4, 6}\n"
          ]
        }
      ]
    }
  ]
}