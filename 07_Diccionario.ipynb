{
  "nbformat": 4,
  "nbformat_minor": 0,
  "metadata": {
    "colab": {
      "provenance": [],
      "authorship_tag": "ABX9TyMj5u0o/eX/GHAQ2OyL53u0",
      "include_colab_link": true
    },
    "kernelspec": {
      "name": "python3",
      "display_name": "Python 3"
    },
    "language_info": {
      "name": "python"
    }
  },
  "cells": [
    {
      "cell_type": "markdown",
      "metadata": {
        "id": "view-in-github",
        "colab_type": "text"
      },
      "source": [
        "<a href=\"https://colab.research.google.com/github/IsraDC/Clases-de-pyhton/blob/main/07_Diccionario.ipynb\" target=\"_parent\"><img src=\"https://colab.research.google.com/assets/colab-badge.svg\" alt=\"Open In Colab\"/></a>"
      ]
    },
    {
      "cell_type": "markdown",
      "source": [
        "<h1>Diccionarios</h1>\n",
        "<p>Los diccionarios estan emparejados por lo cual siempre estaran compuestas de una llave y un valor</p>\n",
        "\n",
        "\n",
        "*   Emparejados\n",
        "*   Desodernado\n",
        "*   Modificable\n",
        "\n",
        "\n",
        "\n",
        "\n"
      ],
      "metadata": {
        "id": "KkTBYwHzeqxt"
      }
    },
    {
      "cell_type": "code",
      "execution_count": null,
      "metadata": {
        "id": "swNXc3_-4ews",
        "colab": {
          "base_uri": "https://localhost:8080/"
        },
        "outputId": "9edc0ba6-505d-4c51-ef81-0885db60b219"
      },
      "outputs": [
        {
          "output_type": "stream",
          "name": "stdout",
          "text": [
            "<class 'dict'>\n",
            "<class 'dict'>\n"
          ]
        }
      ],
      "source": [
        "my_dict = dict()\n",
        "other_dict = {}\n",
        "print(type(my_dict))\n",
        "print(type(other_dict))"
      ]
    },
    {
      "cell_type": "code",
      "source": [
        "person = {\n",
        "    'name' : 'Erick',\n",
        "    'Last_name' : 'Borgues',\n",
        "    'age' : 23,\n",
        "    'skills' : ['javascript', 'python', 'css'],\n",
        "    'address':{\n",
        "        'street': 'hola',\n",
        "        'tele': '3122209425'\n",
        "        \n",
        "    }\n",
        "}\n",
        "\n",
        "print(person)"
      ],
      "metadata": {
        "colab": {
          "base_uri": "https://localhost:8080/"
        },
        "id": "THJw03uFhCm1",
        "outputId": "e7c361e6-bb73-4264-84ca-9c5883878707"
      },
      "execution_count": null,
      "outputs": [
        {
          "output_type": "stream",
          "name": "stdout",
          "text": [
            "{'name': 'Erick', 'Last_name': 'Borgues', 'age': 23, 'skills': ['javascript', 'python', 'css'], 'address': {'street': 'hola', 'tele': '3122209425'}}\n"
          ]
        }
      ]
    },
    {
      "cell_type": "code",
      "source": [
        "print(len(person))"
      ],
      "metadata": {
        "colab": {
          "base_uri": "https://localhost:8080/"
        },
        "id": "Gpqr0LrJhHmX",
        "outputId": "6b109ba7-9914-40b1-d16f-b0ae221fa925"
      },
      "execution_count": null,
      "outputs": [
        {
          "output_type": "stream",
          "name": "stdout",
          "text": [
            "5\n"
          ]
        }
      ]
    },
    {
      "cell_type": "code",
      "source": [
        "print(person['name'])\n",
        "print(type(person['name']))\n",
        "print(person['Last_name'])\n",
        "print(type(person['Last_name']))\n",
        "print(person['skills'])\n",
        "print(type(person['skills']))\n",
        "print(person['address'])\n",
        "print(type(person['address']))\n",
        "\n",
        "print(person.get('name'))\n",
        "print(person.get('country'))\n",
        "print(person.get('skills'))\n",
        "print(person.get('city'))"
      ],
      "metadata": {
        "colab": {
          "base_uri": "https://localhost:8080/"
        },
        "id": "yOQWVvokhKlh",
        "outputId": "23fe053b-7187-4ca3-a257-267e72539f50"
      },
      "execution_count": null,
      "outputs": [
        {
          "output_type": "stream",
          "name": "stdout",
          "text": [
            "Erick\n",
            "<class 'str'>\n",
            "Borgues\n",
            "<class 'str'>\n",
            "['javascript', 'python', 'css']\n",
            "<class 'list'>\n",
            "{'street': 'hola', 'tele': '3122209425'}\n",
            "<class 'dict'>\n",
            "Erick\n",
            "None\n",
            "['javascript', 'python', 'css']\n",
            "None\n"
          ]
        }
      ]
    },
    {
      "cell_type": "code",
      "source": [
        "print(person)\n",
        "person['country'] = 'poza rica'\n",
        "print(person)"
      ],
      "metadata": {
        "colab": {
          "base_uri": "https://localhost:8080/"
        },
        "id": "ryT7lmhUhUyq",
        "outputId": "cd0a9bc0-e0d6-4ab2-b3dc-2fbdd02a8803"
      },
      "execution_count": null,
      "outputs": [
        {
          "output_type": "stream",
          "name": "stdout",
          "text": [
            "{'name': 'Erick', 'Last_name': 'Borgues', 'age': 23, 'skills': ['javascript', 'python', 'css'], 'address': {'street': 'hola', 'tele': '3122209425'}}\n",
            "{'name': 'Erick', 'Last_name': 'Borgues', 'age': 23, 'skills': ['javascript', 'python', 'css'], 'address': {'street': 'hola', 'tele': '3122209425'}, 'country': 'poza rica'}\n"
          ]
        }
      ]
    },
    {
      "cell_type": "code",
      "source": [
        "print(person)\n",
        "person['last_name'] = 'Galindo'\n",
        "print(person)"
      ],
      "metadata": {
        "colab": {
          "base_uri": "https://localhost:8080/"
        },
        "id": "y3MQaZnbhVw7",
        "outputId": "a5ef59bd-4d9f-483f-93dd-5465724dec28"
      },
      "execution_count": null,
      "outputs": [
        {
          "output_type": "stream",
          "name": "stdout",
          "text": [
            "{'name': 'Erick', 'Last_name': 'Borgues', 'age': 23, 'skills': ['javascript', 'python', 'css'], 'address': {'street': 'hola', 'tele': '3122209425'}, 'country': 'poza rica'}\n",
            "{'name': 'Erick', 'Last_name': 'Borgues', 'age': 23, 'skills': ['javascript', 'python', 'css'], 'address': {'street': 'hola', 'tele': '3122209425'}, 'country': 'poza rica', 'last_name': 'Galindo'}\n"
          ]
        }
      ]
    },
    {
      "cell_type": "code",
      "source": [
        "print('name' in person)\n",
        "print('nauo' in person)"
      ],
      "metadata": {
        "colab": {
          "base_uri": "https://localhost:8080/"
        },
        "id": "c6Ewt_MWhYgs",
        "outputId": "593aa99f-f56e-4a1f-9494-b006a1c98a48"
      },
      "execution_count": null,
      "outputs": [
        {
          "output_type": "stream",
          "name": "stdout",
          "text": [
            "True\n",
            "False\n"
          ]
        }
      ]
    },
    {
      "cell_type": "markdown",
      "source": [
        "<h1>Se analiza todas las llaves</h1>"
      ],
      "metadata": {
        "id": "CFnr_r-lhckO"
      }
    },
    {
      "cell_type": "code",
      "source": [
        "print(person.keys())"
      ],
      "metadata": {
        "colab": {
          "base_uri": "https://localhost:8080/"
        },
        "id": "3McBEEckhbhK",
        "outputId": "d7a34266-8fba-4c27-fd20-6ca15b0cb68a"
      },
      "execution_count": null,
      "outputs": [
        {
          "output_type": "stream",
          "name": "stdout",
          "text": [
            "dict_keys(['name', 'Last_name', 'age', 'skills', 'address', 'country', 'last_name'])\n"
          ]
        }
      ]
    },
    {
      "cell_type": "markdown",
      "source": [
        "<h1>Se analiza todos los valores</h1>"
      ],
      "metadata": {
        "id": "IkN1ajokhvYg"
      }
    },
    {
      "cell_type": "code",
      "source": [
        "print(person.values())"
      ],
      "metadata": {
        "colab": {
          "base_uri": "https://localhost:8080/"
        },
        "id": "7NNkDYfChqJM",
        "outputId": "3d63b85d-c933-480d-e6f6-573f6ab005cb"
      },
      "execution_count": null,
      "outputs": [
        {
          "output_type": "stream",
          "name": "stdout",
          "text": [
            "dict_values(['Erick', 'Borgues', 23, ['javascript', 'python', 'css'], {'street': 'hola', 'tele': '3122209425'}, 'poza rica', 'Galindo'])\n"
          ]
        }
      ]
    }
  ]
}