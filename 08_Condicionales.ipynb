{
  "nbformat": 4,
  "nbformat_minor": 0,
  "metadata": {
    "colab": {
      "provenance": [],
      "authorship_tag": "ABX9TyPvZvq1nPuPJG14ICOU3ykp",
      "include_colab_link": true
    },
    "kernelspec": {
      "name": "python3",
      "display_name": "Python 3"
    },
    "language_info": {
      "name": "python"
    }
  },
  "cells": [
    {
      "cell_type": "markdown",
      "metadata": {
        "id": "view-in-github",
        "colab_type": "text"
      },
      "source": [
        "<a href=\"https://colab.research.google.com/github/IsraDC/Clases-de-pyhton/blob/main/08_Condicionales.ipynb\" target=\"_parent\"><img src=\"https://colab.research.google.com/assets/colab-badge.svg\" alt=\"Open In Colab\"/></a>"
      ]
    },
    {
      "cell_type": "code",
      "execution_count": null,
      "metadata": {
        "id": "dK3wDKZG4vj1",
        "colab": {
          "base_uri": "https://localhost:8080/"
        },
        "outputId": "4f315417-34c0-4852-e813-87e293a2a1c5"
      },
      "outputs": [
        {
          "output_type": "stream",
          "name": "stdout",
          "text": [
            "ocurre esto\n"
          ]
        }
      ],
      "source": [
        "#sintaxis\n",
        "condition = 1\n",
        "if condition == 1:\n",
        "  print('ocurre esto')\n",
        "else:\n",
        "  print('ocurre aquello')"
      ]
    },
    {
      "cell_type": "code",
      "source": [
        "num = int(input('Ingresa un numero:'))"
      ],
      "metadata": {
        "colab": {
          "base_uri": "https://localhost:8080/"
        },
        "id": "Rf0NOu8ijU1S",
        "outputId": "eb27273f-99a4-4e86-df5e-c13f39a2d2d8"
      },
      "execution_count": null,
      "outputs": [
        {
          "name": "stdout",
          "output_type": "stream",
          "text": [
            "Ingresa un numero:8\n"
          ]
        }
      ]
    },
    {
      "cell_type": "code",
      "source": [
        "if num < 0:\n",
        "  print('es negativo')\n",
        "else:\n",
        "  print('es positivo')"
      ],
      "metadata": {
        "colab": {
          "base_uri": "https://localhost:8080/"
        },
        "id": "WPaU5w7KjbDP",
        "outputId": "d00c0e3c-4f51-4869-bd4e-0ca8e4784c88"
      },
      "execution_count": null,
      "outputs": [
        {
          "output_type": "stream",
          "name": "stdout",
          "text": [
            "es positivo\n"
          ]
        }
      ]
    },
    {
      "cell_type": "code",
      "source": [
        "numero = int(input('Ingresa un numero:'))\n",
        "\n",
        "if numero < 0:\n",
        "  print('es negativo')\n",
        "elif numero > 0:\n",
        "  print('es positivo')\n",
        "else:\n",
        "  print('Es cero')"
      ],
      "metadata": {
        "colab": {
          "base_uri": "https://localhost:8080/"
        },
        "id": "6vKbnN9BjfDw",
        "outputId": "7b7d5176-2989-4ed7-b139-9f91bffc5dac"
      },
      "execution_count": null,
      "outputs": [
        {
          "output_type": "stream",
          "name": "stdout",
          "text": [
            "Ingresa un numero:5\n",
            "es positivo\n"
          ]
        }
      ]
    },
    {
      "cell_type": "markdown",
      "source": [
        "<h1>Anidación</h1>"
      ],
      "metadata": {
        "id": "3Yl_GjWOjjRe"
      }
    },
    {
      "cell_type": "code",
      "source": [
        "numero = int(input('Ingresa un numero:'))\n",
        "\n",
        "if numero > 0:\n",
        "  if numero % 2 == 0:\n",
        "    print('El numero es par y positivo')\n",
        "\n",
        "  else:\n",
        "    print('El numero es positivo e impar')\n",
        "\n",
        "elif numero == 0:\n",
        "  print('el numero es cero')\n",
        "  \n",
        "else:\n",
        "  print('el numero es negativo')"
      ],
      "metadata": {
        "colab": {
          "base_uri": "https://localhost:8080/"
        },
        "id": "gVa6HVorjpxW",
        "outputId": "876f5464-532a-4cdd-cd1b-49a1145ce363"
      },
      "execution_count": null,
      "outputs": [
        {
          "output_type": "stream",
          "name": "stdout",
          "text": [
            "Ingresa un numero:8\n",
            "El numero es par y positivo\n"
          ]
        }
      ]
    },
    {
      "cell_type": "markdown",
      "source": [
        "<h1>Condicionales y operadores logicos</h1>"
      ],
      "metadata": {
        "id": "eAKiqhJFju3G"
      }
    },
    {
      "cell_type": "code",
      "source": [
        "numero = int(input('Ingresa un numero:'))\n",
        "\n",
        "if numero > 0 and numero % 2 == 0:\n",
        "  print('El numero es par y positivo')\n",
        "elif numero == 0:\n",
        "  print('es cero')\n",
        "elif numero > 0 and numero % 2 != 0:\n",
        "  print('el numero es mayor a cero y es impar')\n",
        "else:\n",
        "  print('el numero es negativo')"
      ],
      "metadata": {
        "colab": {
          "base_uri": "https://localhost:8080/"
        },
        "id": "mfX7b2ptj09g",
        "outputId": "9d5865a7-17cf-42ab-f0da-54231e1534a4"
      },
      "execution_count": null,
      "outputs": [
        {
          "output_type": "stream",
          "name": "stdout",
          "text": [
            "Ingresa un numero:7\n",
            "el numero es mayor a cero y es impar\n"
          ]
        }
      ]
    },
    {
      "cell_type": "code",
      "source": [
        "user = 'Alecs'\n",
        "access_level = 3\n",
        "if user == 'Admin' or access_level >=4:\n",
        "  print('¡Acceso concedido!')\n",
        "else:\n",
        "  print('¡Acceso denegado!')"
      ],
      "metadata": {
        "colab": {
          "base_uri": "https://localhost:8080/"
        },
        "id": "SDJ5XH2Tj9EV",
        "outputId": "8a40a7fe-be7b-4d6a-b3c0-fa5d08cb2dd8"
      },
      "execution_count": null,
      "outputs": [
        {
          "output_type": "stream",
          "name": "stdout",
          "text": [
            "¡Acceso denegado!\n"
          ]
        }
      ]
    }
  ]
}