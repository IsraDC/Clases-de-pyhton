{
  "nbformat": 4,
  "nbformat_minor": 0,
  "metadata": {
    "colab": {
      "provenance": [],
      "authorship_tag": "ABX9TyMASTESwsB9A3WW6VboL1QG",
      "include_colab_link": true
    },
    "kernelspec": {
      "name": "python3",
      "display_name": "Python 3"
    },
    "language_info": {
      "name": "python"
    }
  },
  "cells": [
    {
      "cell_type": "markdown",
      "metadata": {
        "id": "view-in-github",
        "colab_type": "text"
      },
      "source": [
        "<a href=\"https://colab.research.google.com/github/IsraDC/Clases-de-pyhton/blob/main/09_Bucles_loops_ciclos.ipynb\" target=\"_parent\"><img src=\"https://colab.research.google.com/assets/colab-badge.svg\" alt=\"Open In Colab\"/></a>"
      ]
    },
    {
      "cell_type": "markdown",
      "source": [
        "<h1>09 bucles/loops/ciclos</h1>"
      ],
      "metadata": {
        "id": "Ak8ToOzUkljK"
      }
    },
    {
      "cell_type": "code",
      "execution_count": null,
      "metadata": {
        "id": "NJ1iOvRm45Z0",
        "colab": {
          "base_uri": "https://localhost:8080/"
        },
        "outputId": "58290f0e-d4f6-4938-9293-8f51c608dfb8"
      },
      "outputs": [
        {
          "output_type": "stream",
          "name": "stdout",
          "text": [
            "0\n",
            "1\n",
            "2\n",
            "3\n",
            "4\n"
          ]
        }
      ],
      "source": [
        "count = 0\n",
        "while count < 5:\n",
        "  print(count)\n",
        "  count +=1"
      ]
    },
    {
      "cell_type": "code",
      "source": [
        "numeros = [0, 1, 2, 3, 4, 5]\n",
        "for contador in numeros:\n",
        "  print(contador)"
      ],
      "metadata": {
        "colab": {
          "base_uri": "https://localhost:8080/"
        },
        "id": "MS_pM_g1krPr",
        "outputId": "b604cbbb-50b2-4ba5-a0ab-37e2d8743dbd"
      },
      "execution_count": null,
      "outputs": [
        {
          "output_type": "stream",
          "name": "stdout",
          "text": [
            "0\n",
            "1\n",
            "2\n",
            "3\n",
            "4\n",
            "5\n"
          ]
        }
      ]
    },
    {
      "cell_type": "code",
      "source": [
        "language = 'Python'\n",
        "for i in range(len(language)):\n",
        "  print(language[i])"
      ],
      "metadata": {
        "colab": {
          "base_uri": "https://localhost:8080/"
        },
        "id": "OZpA0-B6kxfM",
        "outputId": "f9eaa90f-0b86-4259-8701-2e24c7634b2e"
      },
      "execution_count": null,
      "outputs": [
        {
          "output_type": "stream",
          "name": "stdout",
          "text": [
            "P\n",
            "y\n",
            "t\n",
            "h\n",
            "o\n",
            "n\n"
          ]
        }
      ]
    },
    {
      "cell_type": "code",
      "source": [
        "person = {\n",
        "    'name' : 'Erick',\n",
        "    'Last_name' : 'Borgues',\n",
        "    'age' : 23,\n",
        "    'skills' : ['javascript', 'python', 'css'],\n",
        "    'address':{\n",
        "        'street': 'hola',\n",
        "        'tele': '3122209425'\n",
        "        \n",
        "    }\n",
        "}\n",
        "\n",
        "print(person)"
      ],
      "metadata": {
        "colab": {
          "base_uri": "https://localhost:8080/"
        },
        "id": "J5zxR0zZl0Ro",
        "outputId": "bacff47b-57a8-4b1f-ae04-43bea03f47f2"
      },
      "execution_count": null,
      "outputs": [
        {
          "output_type": "stream",
          "name": "stdout",
          "text": [
            "{'name': 'Erick', 'Last_name': 'Borgues', 'age': 23, 'skills': ['javascript', 'python', 'css'], 'address': {'street': 'hola', 'tele': '3122209425'}}\n"
          ]
        }
      ]
    },
    {
      "cell_type": "code",
      "source": [
        "for key in person:\n",
        "  print(key)"
      ],
      "metadata": {
        "colab": {
          "base_uri": "https://localhost:8080/"
        },
        "id": "hl40MZxhk0Em",
        "outputId": "eb710d43-8118-42ed-8505-4046f2893c08"
      },
      "execution_count": null,
      "outputs": [
        {
          "output_type": "stream",
          "name": "stdout",
          "text": [
            "name\n",
            "Last_name\n",
            "age\n",
            "skills\n",
            "address\n"
          ]
        }
      ]
    },
    {
      "cell_type": "code",
      "source": [
        "for key, value in person.items():\n",
        "  print(value)"
      ],
      "metadata": {
        "colab": {
          "base_uri": "https://localhost:8080/"
        },
        "id": "gYEYGieek01O",
        "outputId": "4a495c7e-5c80-42ee-8229-e2734d72ed1d"
      },
      "execution_count": null,
      "outputs": [
        {
          "output_type": "stream",
          "name": "stdout",
          "text": [
            "Erick\n",
            "Borgues\n",
            "23\n",
            "['javascript', 'python', 'css']\n",
            "{'street': 'hola', 'tele': '3122209425'}\n"
          ]
        }
      ]
    }
  ]
}