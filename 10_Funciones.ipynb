{
  "nbformat": 4,
  "nbformat_minor": 0,
  "metadata": {
    "colab": {
      "provenance": [],
      "authorship_tag": "ABX9TyPrCnn1nkjxnL04DI4guCv/",
      "include_colab_link": true
    },
    "kernelspec": {
      "name": "python3",
      "display_name": "Python 3"
    },
    "language_info": {
      "name": "python"
    }
  },
  "cells": [
    {
      "cell_type": "markdown",
      "metadata": {
        "id": "view-in-github",
        "colab_type": "text"
      },
      "source": [
        "<a href=\"https://colab.research.google.com/github/IsraDC/Clases-de-pyhton/blob/main/10_Funciones.ipynb\" target=\"_parent\"><img src=\"https://colab.research.google.com/assets/colab-badge.svg\" alt=\"Open In Colab\"/></a>"
      ]
    },
    {
      "cell_type": "code",
      "execution_count": null,
      "metadata": {
        "id": "xjhkgooV5jKs"
      },
      "outputs": [],
      "source": [
        "#sintaxis\n",
        "def function_name():\n",
        "  code\n",
        "  code"
      ]
    },
    {
      "cell_type": "markdown",
      "source": [
        "<h1>Funciones sin parametros</h1>"
      ],
      "metadata": {
        "id": "sPlLZGm86r7C"
      }
    },
    {
      "cell_type": "code",
      "source": [
        "def adicion():\n",
        "  a = 2\n",
        "  b = 3\n",
        "  total = a + b\n",
        "  print(total)"
      ],
      "metadata": {
        "id": "ddYwNATy5tKE"
      },
      "execution_count": null,
      "outputs": []
    },
    {
      "cell_type": "code",
      "source": [
        "adicion()"
      ],
      "metadata": {
        "colab": {
          "base_uri": "https://localhost:8080/"
        },
        "id": "nwFDij7i6-HL",
        "outputId": "c022afd1-1cb7-4044-aa66-2a7bca5f30f6"
      },
      "execution_count": null,
      "outputs": [
        {
          "output_type": "stream",
          "name": "stdout",
          "text": [
            "5\n"
          ]
        }
      ]
    },
    {
      "cell_type": "code",
      "source": [
        "print(adicion())"
      ],
      "metadata": {
        "colab": {
          "base_uri": "https://localhost:8080/"
        },
        "id": "jsMfhF4F7KTr",
        "outputId": "673bd494-5654-4324-e236-863ab7ab091c"
      },
      "execution_count": null,
      "outputs": [
        {
          "output_type": "stream",
          "name": "stdout",
          "text": [
            "5\n",
            "None\n"
          ]
        }
      ]
    },
    {
      "cell_type": "markdown",
      "source": [
        "En una funcion nosotros usamos la palabra return seguido la varible "
      ],
      "metadata": {
        "id": "wphN6I_47dcI"
      }
    },
    {
      "cell_type": "code",
      "source": [
        "def adicion():\n",
        "  a = 2\n",
        "  b = 3\n",
        "  total = a + b\n",
        "  return total"
      ],
      "metadata": {
        "id": "cSsHfr2X7c_g"
      },
      "execution_count": null,
      "outputs": []
    },
    {
      "cell_type": "code",
      "source": [
        "print(adicion())"
      ],
      "metadata": {
        "colab": {
          "base_uri": "https://localhost:8080/"
        },
        "id": "BMjBCyZF7ttt",
        "outputId": "f8315b8c-26b6-45c7-daf4-bb695bba8d7c"
      },
      "execution_count": null,
      "outputs": [
        {
          "output_type": "stream",
          "name": "stdout",
          "text": [
            "5\n"
          ]
        }
      ]
    },
    {
      "cell_type": "markdown",
      "source": [
        "<h1>Funciones con parametros</h1>"
      ],
      "metadata": {
        "id": "U89wK5Go7y0J"
      }
    },
    {
      "cell_type": "code",
      "source": [
        "def adicion(a,b):\n",
        "  total = a + b\n",
        "  return total"
      ],
      "metadata": {
        "id": "KT0ZCKHK8NZp"
      },
      "execution_count": null,
      "outputs": []
    },
    {
      "cell_type": "code",
      "source": [
        "print(adicion(1,2))"
      ],
      "metadata": {
        "colab": {
          "base_uri": "https://localhost:8080/"
        },
        "id": "pd8g94Le8nlF",
        "outputId": "2d05fa6f-2798-43bd-9a85-8f2c7800f52c"
      },
      "execution_count": null,
      "outputs": [
        {
          "output_type": "stream",
          "name": "stdout",
          "text": [
            "3\n"
          ]
        }
      ]
    },
    {
      "cell_type": "markdown",
      "source": [
        "argumentos de tipo key"
      ],
      "metadata": {
        "id": "zLPU4zF79D6t"
      }
    },
    {
      "cell_type": "code",
      "source": [
        "def person_info(name, lastname, career):\n",
        "  print(f'Hola {name} {lastname}, gracias por escoger la carrera {career}. comencemos con la selección')"
      ],
      "metadata": {
        "id": "3avhsYyT9COO"
      },
      "execution_count": null,
      "outputs": []
    },
    {
      "cell_type": "code",
      "source": [
        "print(person_info('isra', 'ga', 'sistemas'))"
      ],
      "metadata": {
        "colab": {
          "base_uri": "https://localhost:8080/"
        },
        "id": "D1CqI_ig91ls",
        "outputId": "4809c717-331d-43a7-cbfb-455b967f6ed2"
      },
      "execution_count": null,
      "outputs": [
        {
          "output_type": "stream",
          "name": "stdout",
          "text": [
            "Hola isra ga, gracias por escoger la carrera sistemas. comencemos con la selección\n",
            "None\n"
          ]
        }
      ]
    },
    {
      "cell_type": "code",
      "source": [
        "def is_par(n):\n",
        "  if n%2 == 0:\n",
        "    return True\n",
        "  return False\n"
      ],
      "metadata": {
        "id": "okn-bARn981x"
      },
      "execution_count": null,
      "outputs": []
    },
    {
      "cell_type": "code",
      "source": [
        "print(is_par(8))\n",
        "print(is_par(5))"
      ],
      "metadata": {
        "colab": {
          "base_uri": "https://localhost:8080/"
        },
        "id": "Y2msIKqM-XQ9",
        "outputId": "5d14e80e-e7c8-4db7-d6d4-07ad3517bd9d"
      },
      "execution_count": null,
      "outputs": [
        {
          "output_type": "stream",
          "name": "stdout",
          "text": [
            "True\n",
            "False\n"
          ]
        }
      ]
    },
    {
      "cell_type": "code",
      "source": [
        "def name(name):\n",
        "  return name"
      ],
      "metadata": {
        "id": "kPf75RRU-PyM"
      },
      "execution_count": null,
      "outputs": []
    },
    {
      "cell_type": "code",
      "source": [
        "print(name('isra'))"
      ],
      "metadata": {
        "colab": {
          "base_uri": "https://localhost:8080/"
        },
        "id": "q9pwMRRO-i38",
        "outputId": "9a5a2e47-86be-4073-ffdd-d890924a7dee"
      },
      "execution_count": null,
      "outputs": [
        {
          "output_type": "stream",
          "name": "stdout",
          "text": [
            "isra\n"
          ]
        }
      ]
    },
    {
      "cell_type": "code",
      "source": [
        "#listas\n",
        "def find_pair(n):\n",
        "  pairs = []\n",
        "  for i in range(n+1):\n",
        "    if i%2 == 0 and i != 0:\n",
        "      pairs.append(i)\n",
        "  return pairs"
      ],
      "metadata": {
        "id": "Z24cIhID-lsZ"
      },
      "execution_count": null,
      "outputs": []
    },
    {
      "cell_type": "code",
      "source": [
        "print(find_pair(10))"
      ],
      "metadata": {
        "colab": {
          "base_uri": "https://localhost:8080/"
        },
        "id": "8agjdE2y_Bfw",
        "outputId": "f51a5b04-9124-44e4-c58f-dd50003096f1"
      },
      "execution_count": null,
      "outputs": [
        {
          "output_type": "stream",
          "name": "stdout",
          "text": [
            "[2, 4, 6, 8, 10]\n"
          ]
        }
      ]
    }
  ]
}