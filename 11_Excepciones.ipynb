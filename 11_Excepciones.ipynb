{
  "nbformat": 4,
  "nbformat_minor": 0,
  "metadata": {
    "colab": {
      "provenance": [],
      "authorship_tag": "ABX9TyP/6qPoP0TIEibrTlTXVoPI",
      "include_colab_link": true
    },
    "kernelspec": {
      "name": "python3",
      "display_name": "Python 3"
    },
    "language_info": {
      "name": "python"
    }
  },
  "cells": [
    {
      "cell_type": "markdown",
      "metadata": {
        "id": "view-in-github",
        "colab_type": "text"
      },
      "source": [
        "<a href=\"https://colab.research.google.com/github/IsraDC/Clases-de-pyhton/blob/main/11_Excepciones.ipynb\" target=\"_parent\"><img src=\"https://colab.research.google.com/assets/colab-badge.svg\" alt=\"Open In Colab\"/></a>"
      ]
    },
    {
      "cell_type": "markdown",
      "source": [
        "<h1>Se usa en el manejo de errores</h1>"
      ],
      "metadata": {
        "id": "cLycrhWW_beT"
      }
    },
    {
      "cell_type": "code",
      "execution_count": null,
      "metadata": {
        "id": "sOVn_usj_WEk"
      },
      "outputs": [],
      "source": [
        "'''try:\n",
        "  run this code\n",
        "except:\n",
        "  execute this code whe there is an error\n",
        "else:\n",
        "  whitout errors? run this code\n",
        "finally:\n",
        "  alaways run this code'''"
      ]
    },
    {
      "cell_type": "code",
      "source": [
        "numberOne = 5\n",
        "numberTwo = 1"
      ],
      "metadata": {
        "id": "IyDqijRMALEZ"
      },
      "execution_count": null,
      "outputs": []
    },
    {
      "cell_type": "code",
      "source": [
        "print(numberOne + numberTwo)"
      ],
      "metadata": {
        "colab": {
          "base_uri": "https://localhost:8080/"
        },
        "id": "m2OOvL3bAYln",
        "outputId": "0fbe4bb3-9dc0-4a6d-fd46-fdfbabf8d684"
      },
      "execution_count": null,
      "outputs": [
        {
          "output_type": "stream",
          "name": "stdout",
          "text": [
            "6\n"
          ]
        }
      ]
    },
    {
      "cell_type": "code",
      "source": [
        "try:\n",
        "  print(numberOne + numberTwo)\n",
        "  print('no hay ningun error')\n",
        "except:\n",
        "  print('se ha producido un error')\n",
        "else:\n",
        "  print('la ejecución continúa correctamente')"
      ],
      "metadata": {
        "colab": {
          "base_uri": "https://localhost:8080/"
        },
        "id": "HjdZZ0SnAgOC",
        "outputId": "1fd2b3bb-04ae-448c-b5ec-d9561eade308"
      },
      "execution_count": null,
      "outputs": [
        {
          "output_type": "stream",
          "name": "stdout",
          "text": [
            "6\n",
            "no hay ningun error\n",
            "la ejecución continúa correctamente\n"
          ]
        }
      ]
    },
    {
      "cell_type": "code",
      "source": [
        "numberOne = 5\n",
        "numberTwo = 1\n",
        "numberTwo = '1'"
      ],
      "metadata": {
        "id": "Jxoc4eBKCGq2"
      },
      "execution_count": null,
      "outputs": []
    },
    {
      "cell_type": "code",
      "source": [
        "try:\n",
        "  print(numberOne + numberTwo)\n",
        "  print('no hay ningun error')\n",
        "except:\n",
        "  print('se ha producido un error')\n",
        "else:\n",
        "  print('la ejecución continúa correctamente')\n",
        "finally:\n",
        "  print('la ejecucion sigue')\n"
      ],
      "metadata": {
        "colab": {
          "base_uri": "https://localhost:8080/"
        },
        "id": "RrDl5dvTBNLk",
        "outputId": "da1e310e-6340-404d-d560-e34e58b9b74d"
      },
      "execution_count": null,
      "outputs": [
        {
          "output_type": "stream",
          "name": "stdout",
          "text": [
            "se ha producido un error\n",
            "la ejecucion sigue\n"
          ]
        }
      ]
    },
    {
      "cell_type": "code",
      "source": [
        "numberOne = 5\n",
        "numberTwo = 1\n",
        "numberTwo = '1'"
      ],
      "metadata": {
        "id": "v1Yjub0xCknk"
      },
      "execution_count": null,
      "outputs": []
    },
    {
      "cell_type": "code",
      "source": [
        "try:\n",
        "  print(numberOne + numberTwo)\n",
        "  print('no hay ningun error')\n",
        "except TypeError:\n",
        "  print('se ha producido un error')"
      ],
      "metadata": {
        "colab": {
          "base_uri": "https://localhost:8080/"
        },
        "id": "38scQzqCCzhk",
        "outputId": "808fb9ab-f2fb-4d5c-dab4-748321f95b98"
      },
      "execution_count": null,
      "outputs": [
        {
          "output_type": "stream",
          "name": "stdout",
          "text": [
            "se ha producido un error\n"
          ]
        }
      ]
    },
    {
      "cell_type": "code",
      "source": [
        "try:\n",
        "  print(numberOne + numberTwo)\n",
        "  print('no hay ningun error')\n",
        "except TypeError:\n",
        "  print('se ha producido un error')\n",
        "  print('ya lo solucione')\n",
        "  fixone = int(numberOne)\n",
        "  fixtwo = int(numberTwo)\n",
        "  print(fixone+fixtwo)\n"
      ],
      "metadata": {
        "colab": {
          "base_uri": "https://localhost:8080/"
        },
        "id": "sKyvnjz1DYDv",
        "outputId": "320c2633-c56e-462b-b61a-54e5a1e1b8c5"
      },
      "execution_count": null,
      "outputs": [
        {
          "output_type": "stream",
          "name": "stdout",
          "text": [
            "se ha producido un error\n",
            "ya lo solucione\n",
            "6\n"
          ]
        }
      ]
    },
    {
      "cell_type": "code",
      "source": [
        "try:\n",
        "  print(numberOne + numberTwo)\n",
        "  print('no hay ningun error')\n",
        "except TypeError:\n",
        "  print('se ha producido un error de typeError')\n",
        "except ValueError:\n",
        "  print('se ha producido un error de valor')"
      ],
      "metadata": {
        "colab": {
          "base_uri": "https://localhost:8080/"
        },
        "id": "p4ROQEc2EJCi",
        "outputId": "5e7ba715-ba46-4bb3-a3a2-f2398710b639"
      },
      "execution_count": null,
      "outputs": [
        {
          "output_type": "stream",
          "name": "stdout",
          "text": [
            "se ha producido un error de typeError\n"
          ]
        }
      ]
    },
    {
      "cell_type": "code",
      "source": [
        "try:\n",
        "  print(numberOne + numberTwo)\n",
        "except TypeError as e:\n",
        "  print(e)\n"
      ],
      "metadata": {
        "colab": {
          "base_uri": "https://localhost:8080/"
        },
        "id": "UJ__Nlh4E62z",
        "outputId": "209ce44d-fd78-4891-8974-78a12964b3b7"
      },
      "execution_count": null,
      "outputs": [
        {
          "output_type": "stream",
          "name": "stdout",
          "text": [
            "unsupported operand type(s) for +: 'int' and 'str'\n"
          ]
        }
      ]
    }
  ]
}